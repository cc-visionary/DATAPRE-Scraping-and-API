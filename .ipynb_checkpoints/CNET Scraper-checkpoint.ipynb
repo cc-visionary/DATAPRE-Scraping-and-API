{
 "cells": [
  {
   "cell_type": "code",
   "execution_count": 1,
   "id": "45cb37a6",
   "metadata": {
    "ExecuteTime": {
     "end_time": "2022-04-12T14:54:12.099597Z",
     "start_time": "2022-04-12T14:54:11.364538Z"
    }
   },
   "outputs": [],
   "source": [
    "import pandas as pd\n",
    "import requests\n",
    "import re\n",
    "import json\n",
    "\n",
    "from bs4 import BeautifulSoup\n",
    "from datetime import datetime, timedelta"
   ]
  },
  {
   "cell_type": "markdown",
   "id": "8177dd3e",
   "metadata": {},
   "source": [
    "# Scraping Hacker News\n",
    "**Home URL**: https://thehackernews.com/  \n",
    "**Task Description**: Get the news articles published on March 11-12.  \n",
    "**Attributes per news**: datetime, title, author, category, full article and link"
   ]
  },
  {
   "cell_type": "markdown",
   "id": "ba788785",
   "metadata": {},
   "source": [
    "# Discovering the structure of the Website"
   ]
  },
  {
   "cell_type": "code",
   "execution_count": 2,
   "id": "4ebc22db",
   "metadata": {
    "ExecuteTime": {
     "end_time": "2022-04-12T14:54:12.115420Z",
     "start_time": "2022-04-12T14:54:12.103408Z"
    }
   },
   "outputs": [],
   "source": [
    "root_url = 'https://www.cnet.com'\n",
    "news_url = 'https://www.cnet.com/news'"
   ]
  },
  {
   "cell_type": "markdown",
   "id": "1a99f043",
   "metadata": {},
   "source": [
    "## Requesting the home page then parsing it to BeautifulSoup"
   ]
  },
  {
   "cell_type": "code",
   "execution_count": 3,
   "id": "1e4b1685",
   "metadata": {
    "ExecuteTime": {
     "end_time": "2022-04-12T14:54:13.593649Z",
     "start_time": "2022-04-12T14:54:12.119366Z"
    }
   },
   "outputs": [],
   "source": [
    "result = requests.get(news_url)\n",
    "soup = BeautifulSoup(result.content, 'html.parser')"
   ]
  },
  {
   "cell_type": "markdown",
   "id": "adf56b5a",
   "metadata": {
    "ExecuteTime": {
     "end_time": "2022-04-12T12:34:38.011260Z",
     "start_time": "2022-04-12T12:34:38.005246Z"
    }
   },
   "source": [
    "## Getting the list of news"
   ]
  },
  {
   "cell_type": "code",
   "execution_count": 4,
   "id": "92a745cd",
   "metadata": {
    "ExecuteTime": {
     "end_time": "2022-04-12T14:54:13.625576Z",
     "start_time": "2022-04-12T14:54:13.595649Z"
    }
   },
   "outputs": [
    {
     "data": {
      "text/plain": [
       "15"
      ]
     },
     "execution_count": 4,
     "metadata": {},
     "output_type": "execute_result"
    }
   ],
   "source": [
    "list_container = soup.find(class_='fdListingContainer')\n",
    "list_of_news = list_container.find_all('div', class_='riverPost')\n",
    "len(list_of_news)"
   ]
  },
  {
   "cell_type": "markdown",
   "id": "82094c98",
   "metadata": {},
   "source": [
    "## Getting the attributes per news"
   ]
  },
  {
   "cell_type": "code",
   "execution_count": 5,
   "id": "e51eba79",
   "metadata": {
    "ExecuteTime": {
     "end_time": "2022-04-12T14:54:13.640530Z",
     "start_time": "2022-04-12T14:54:13.627566Z"
    }
   },
   "outputs": [],
   "source": [
    "index = 3"
   ]
  },
  {
   "cell_type": "markdown",
   "id": "62aaa126",
   "metadata": {},
   "source": [
    "### Datetime\n",
    "The date isn't shown in the lists of news. However the time of how long the news was posted is known. You can use this to as a parameter to timedelta to be able to subtract it to the current datetime to get the date posted."
   ]
  },
  {
   "cell_type": "code",
   "execution_count": 6,
   "id": "00770c0c",
   "metadata": {
    "ExecuteTime": {
     "end_time": "2022-04-12T14:54:13.671449Z",
     "start_time": "2022-04-12T14:54:13.646516Z"
    }
   },
   "outputs": [
    {
     "name": "stdout",
     "output_type": "stream",
     "text": [
      "30 - minutes ago\n"
     ]
    }
   ],
   "source": [
    "value, unit = list_of_news[index].find('div', class_='timeAgo').find_all('span')\n",
    "value = int(value.text)\n",
    "unit = unit.text\n",
    "print(value, '-', unit)"
   ]
  },
  {
   "cell_type": "code",
   "execution_count": 7,
   "id": "175d43da",
   "metadata": {
    "ExecuteTime": {
     "end_time": "2022-04-12T14:54:13.702381Z",
     "start_time": "2022-04-12T14:54:13.675447Z"
    }
   },
   "outputs": [
    {
     "data": {
      "text/plain": [
       "'04/12/2022'"
      ]
     },
     "execution_count": 7,
     "metadata": {},
     "output_type": "execute_result"
    }
   ],
   "source": [
    "def get_date_posted(value, unit):\n",
    "    date_posted = None\n",
    "    \n",
    "    if(unit == 'seconds ago' or unit == 'second ago'):\n",
    "        date_posted = datetime.today() - timedelta(seconds=value)\n",
    "    elif(unit == 'minutes ago' or unit == 'minute ago'):\n",
    "        date_posted = datetime.today() - timedelta(minutes=value)\n",
    "    elif(unit == 'hours ago' or unit == 'hour ago'):\n",
    "        date_posted = datetime.today() - timedelta(hours=value)\n",
    "    elif(unit == 'days ago' or unit == 'day ago'):\n",
    "        date_posted = datetime.today() - timedelta(days=value)\n",
    "        \n",
    "    return date_posted.strftime('%m/%d/%Y')\n",
    "\n",
    "get_date_posted(value, unit)"
   ]
  },
  {
   "cell_type": "markdown",
   "id": "b2915c72",
   "metadata": {},
   "source": [
    "### Title"
   ]
  },
  {
   "cell_type": "code",
   "execution_count": 8,
   "id": "d3f4b984",
   "metadata": {
    "ExecuteTime": {
     "end_time": "2022-04-12T14:54:13.717324Z",
     "start_time": "2022-04-12T14:54:13.706355Z"
    }
   },
   "outputs": [
    {
     "data": {
      "text/plain": [
       "'Save 25% on Fleur & Bee Products Today'"
      ]
     },
     "execution_count": 8,
     "metadata": {},
     "output_type": "execute_result"
    }
   ],
   "source": [
    "def get_title_from_list(article):\n",
    "    return article.find('h3').text.strip()\n",
    "\n",
    "get_title_from_list(list_of_news[index])"
   ]
  },
  {
   "cell_type": "markdown",
   "id": "decbec77",
   "metadata": {},
   "source": [
    "### Link"
   ]
  },
  {
   "cell_type": "code",
   "execution_count": 9,
   "id": "bcd3b928",
   "metadata": {
    "ExecuteTime": {
     "end_time": "2022-04-12T14:54:13.748241Z",
     "start_time": "2022-04-12T14:54:13.721315Z"
    }
   },
   "outputs": [
    {
     "data": {
      "text/plain": [
       "'https://www.cnet.com/health/personal-care/save-25-on-fleur-bee-products-today/'"
      ]
     },
     "execution_count": 9,
     "metadata": {},
     "output_type": "execute_result"
    }
   ],
   "source": [
    "def get_link_from_list(article):\n",
    "    return root_url + article.find('a').get('href')\n",
    "\n",
    "get_link_from_list(list_of_news[index])"
   ]
  },
  {
   "cell_type": "markdown",
   "id": "bbc25ba9",
   "metadata": {},
   "source": [
    "### Category"
   ]
  },
  {
   "cell_type": "code",
   "execution_count": 10,
   "id": "1569868b",
   "metadata": {
    "ExecuteTime": {
     "end_time": "2022-04-12T14:54:13.763203Z",
     "start_time": "2022-04-12T14:54:13.754226Z"
    }
   },
   "outputs": [
    {
     "data": {
      "text/plain": [
       "'Skin Care'"
      ]
     },
     "execution_count": 10,
     "metadata": {},
     "output_type": "execute_result"
    }
   ],
   "source": [
    "def get_category_from_list(article):\n",
    "    return article.find('a', class_='topicName').text\n",
    "\n",
    "get_category_from_list(list_of_news[index])"
   ]
  },
  {
   "cell_type": "markdown",
   "id": "f405f73a",
   "metadata": {},
   "source": [
    "### Author"
   ]
  },
  {
   "cell_type": "code",
   "execution_count": 11,
   "id": "e3b57031",
   "metadata": {
    "ExecuteTime": {
     "end_time": "2022-04-12T14:54:13.779158Z",
     "start_time": "2022-04-12T14:54:13.766195Z"
    }
   },
   "outputs": [
    {
     "data": {
      "text/plain": [
       "'Robin Mosley'"
      ]
     },
     "execution_count": 11,
     "metadata": {},
     "output_type": "execute_result"
    }
   ],
   "source": [
    "def get_author_from_list(article):\n",
    "    return article.find('span', class_='assetAuthor').find('a', class_='name').text\n",
    "\n",
    "get_author_from_list(list_of_news[index])"
   ]
  },
  {
   "cell_type": "markdown",
   "id": "c4d107df",
   "metadata": {},
   "source": [
    "### Full Article\n",
    "The full article cannot be seen in the list of news, you'd have to go to the news article page to be able to get the whole contents of the news article"
   ]
  },
  {
   "cell_type": "code",
   "execution_count": 12,
   "id": "52a89a8a",
   "metadata": {
    "ExecuteTime": {
     "end_time": "2022-04-12T14:54:14.836307Z",
     "start_time": "2022-04-12T14:54:13.783149Z"
    }
   },
   "outputs": [],
   "source": [
    "result = requests.get(get_link_from_list(list_of_news[index]))\n",
    "soup = BeautifulSoup(result.content, 'html.parser')"
   ]
  },
  {
   "cell_type": "code",
   "execution_count": 13,
   "id": "ae96243e",
   "metadata": {
    "ExecuteTime": {
     "end_time": "2022-04-12T14:54:14.851234Z",
     "start_time": "2022-04-12T14:54:14.839284Z"
    }
   },
   "outputs": [
    {
     "data": {
      "text/plain": [
       "'April 12, 2022 7:19 a.m. PT'"
      ]
     },
     "execution_count": 13,
     "metadata": {},
     "output_type": "execute_result"
    }
   ],
   "source": [
    "def get_official_datetime_from_page(article):\n",
    "    return article.find('time').text\n",
    "\n",
    "get_official_datetime_from_page(soup)"
   ]
  },
  {
   "cell_type": "code",
   "execution_count": 14,
   "id": "83779c48",
   "metadata": {
    "ExecuteTime": {
     "end_time": "2022-04-12T14:54:14.883150Z",
     "start_time": "2022-04-12T14:54:14.854227Z"
    },
    "scrolled": true
   },
   "outputs": [
    {
     "data": {
      "text/plain": [
       "'<figure class=\"image image-large pull-none shortcode\" section=\"shortcodeImage\"><span class=\"imageContainer\"><span><img alt=\"fleur-bee.png\" class=\"\" height=\"615\" src=\"https://www.cnet.com/a/img/resize/cefdd139784264d4e8c3bd5cbd35226349ec1a93/2022/04/12/a90b22f2-0939-4c15-9cc7-8e9594d6595c/fleur-bee.png?auto=webp&amp;width=1092\" width=\"1092\"/></span></span><figcaption><span class=\"credit\"> Amazon </span></figcaption></figure><p class=\"speakableTextP1\">Some moms admire makeup, some love fashion and others love skin care. In honor of Mother\\'s Day, you can <span class=\"comLink nolinks norewrite\" data-track=\"commerceLink\" section=\"commerce-link\"><a data-component=\"leadsTracker\" data-leads-tracker-options=\\'{\"appendCreditCardParams\":false,\"numNodes\":1,\"fireProductViewed\":false,\"trackingData\":{\"asid\":\"\",\"assetguid\":\"aa89413e-cddb-44fd-836d-bd4e544dd328\",\"contype\":\"review\",\"destUrl\":\"https:\\\\/\\\\/assoc-redirect.amazon.com\\\\/g\\\\/r\\\\/https:\\\\/\\\\/www.amazon.com\\\\/s?k=Fleur+%26+Bee&amp;ref=bl_dp_s_web_0&amp;tag=cnet-buy-button-20&amp;ascsubtag=___COM_CLICK_ID___%7C___VIEW_GUID___%7Cdtp\",\"devicetype\":\"desktop\",\"ctype\":\"cpc\",\"isCreditCard\":false,\"leadcpc\":\"\",\"ltype\":\"manual\",\"merid\":\"\",\"merchantName\":\"\",\"pageId\":\"aa89413e-cddb-44fd-836d-bd4e544dd328\",\"pagetype\":\"\",\"pid\":\"\",\"productId\":\"\",\"rsid\":\"cbsicnetglobalsite\",\"siteid\":\"1\",\"text\":\"save 25%\",\"topic\":\"\",\"ttag\":\"\",\"variant\":\"\",\"viewguid\":\"\",\"event\":\"\",\"correlationId\":\"\",\"_destCat\":\"https:\\\\/\\\\/www.amazon.com\\\\/s?k=Fleur+%26+Bee&amp;ref=bl_dp_s_web_0\",\"formatType\":\"LINK\",\"location\":\"LINKS\",\"sku\":\"\",\"dwLinkTag\":\"commerce-link\"}}\\' data-omitnoreferrer=\"\" data-shortcode=\"save-25-on-fleur-bee-products-today\" href=\"https://assoc-redirect.amazon.com/g/r/https://www.amazon.com/s?k=Fleur+%26+Bee&amp;ref=bl_dp_s_web_0&amp;tag=cnet-buy-button-20&amp;ascsubtag=___COM_CLICK_ID___%7C___VIEW_GUID___%7Cdtp\" rel=\"noopener nofollow\" section=\"commerce-link\" target=\"_blank\">save 25%</a></span> on Fleur &amp; Bee skin care products through <strong>May 18</strong> on both Amazon and Fleur &amp; Bee\\'s website with the promo code <strong>FLEURANDMOM</strong>.</p><div class=\"cnetbuybutton leadButton nolinks norewrite\" data-track=\"buybutton\" section=\"button|buy\"><a class=\"\" data-component=\"leadsTracker\" data-leads-tracker-options=\\'{\"appendCreditCardParams\":false,\"numNodes\":1,\"fireProductViewed\":false,\"trackingData\":{\"asid\":\"\",\"assetguid\":\"aa89413e-cddb-44fd-836d-bd4e544dd328\",\"contype\":\"review\",\"destUrl\":\"https:\\\\/\\\\/assoc-redirect.amazon.com\\\\/g\\\\/r\\\\/https:\\\\/\\\\/www.amazon.com\\\\/s?k=Fleur+%26+Bee&amp;ref=bl_dp_s_web_0&amp;tag=cnet-buy-button-20&amp;ascsubtag=___COM_CLICK_ID___%7C___VIEW_GUID___%7Cdtp\",\"devicetype\":\"desktop\",\"ctype\":\"cpc\",\"isCreditCard\":false,\"leadcpc\":\"\",\"ltype\":\"manual\",\"merid\":\"\",\"merchantName\":\"\",\"pageId\":\"aa89413e-cddb-44fd-836d-bd4e544dd328\",\"pagetype\":\"\",\"pid\":\"\",\"productId\":\"\",\"rsid\":\"cbsicnetglobalsite\",\"siteid\":\"1\",\"text\":\"See at Amazon\",\"topic\":\"\",\"ttag\":\"\",\"variant\":\"\",\"viewguid\":\"\",\"event\":\"\",\"correlationId\":\"\",\"_destCat\":\"https:\\\\/\\\\/www.amazon.com\\\\/s?k=Fleur+%26+Bee&amp;ref=bl_dp_s_web_0\",\"formatType\":\"BUTTON\",\"location\":\"LINKS\",\"sku\":\"\",\"dwLinkTag\":\"commerce-button\"}}\\' data-omitnoreferrer=\"\" data-shortcode=\"cnetBuyButton\" href=\"https://assoc-redirect.amazon.com/g/r/https://www.amazon.com/s?k=Fleur+%26+Bee&amp;ref=bl_dp_s_web_0&amp;tag=cnet-buy-button-20&amp;ascsubtag=___COM_CLICK_ID___%7C___VIEW_GUID___%7Cdtp\" rel=\"noopener nofollow\" section=\"{{ section }}\" target=\"_blank\"><div class=\"button button_type_secondary button_size_medium\"><span data-item=\"buttonText\">See at Amazon</span></div></a></div><p class=\"speakableTextP2\">Since I first discovered this brand, I\\'ve had nothing but praise for it because it\\'s both affordable and fragrant. It also uses a combination of thick and thin serums that can be easily absorbed by the skin. And because a little bit of product goes a long way, you won\\'t have to buy it again for a long time. Purchasing Fleur &amp; Bee through Amazon is the more convenient option. However, Amazon has a smaller selection of products, so if you want more selection, go to Fleur &amp; Bee\\'s website.</p><p>If you\\'re shopping on Amazon, pick up the <span class=\"comLink nolinks norewrite\" data-track=\"commerceLink\" section=\"commerce-link\"><a data-component=\"leadsTracker\" data-leads-tracker-options=\\'{\"appendCreditCardParams\":false,\"numNodes\":1,\"fireProductViewed\":false,\"trackingData\":{\"asid\":\"\",\"assetguid\":\"aa89413e-cddb-44fd-836d-bd4e544dd328\",\"contype\":\"review\",\"destUrl\":\"https:\\\\/\\\\/assoc-redirect.amazon.com\\\\/g\\\\/r\\\\/https:\\\\/\\\\/www.amazon.com\\\\/Dermatologist-Cleanser-Ingredients-Fleur-Bee\\\\/dp\\\\/B09MZQG4L6\\\\/ref=sr_1_3?tag=cnet-buy-button-20&amp;ascsubtag=___COM_CLICK_ID___%7C___VIEW_GUID___%7Cdtp\",\"devicetype\":\"desktop\",\"ctype\":\"cpc\",\"isCreditCard\":false,\"leadcpc\":\"\",\"ltype\":\"manual\",\"merid\":\"\",\"merchantName\":\"\",\"pageId\":\"aa89413e-cddb-44fd-836d-bd4e544dd328\",\"pagetype\":\"\",\"pid\":\"\",\"productId\":\"\",\"rsid\":\"cbsicnetglobalsite\",\"siteid\":\"1\",\"text\":\"face cleanser\",\"topic\":\"\",\"ttag\":\"\",\"variant\":\"\",\"viewguid\":\"\",\"event\":\"\",\"correlationId\":\"\",\"_destCat\":\"https:\\\\/\\\\/www.amazon.com\\\\/Dermatologist-Cleanser-Ingredients-Fleur-Bee\\\\/dp\\\\/B09MZQG4L6\\\\/ref=sr_1_3\",\"formatType\":\"LINK\",\"location\":\"LINKS\",\"sku\":\"\",\"dwLinkTag\":\"commerce-link\"}}\\' data-omitnoreferrer=\"\" data-shortcode=\"save-25-on-fleur-bee-products-today\" href=\"https://assoc-redirect.amazon.com/g/r/https://www.amazon.com/Dermatologist-Cleanser-Ingredients-Fleur-Bee/dp/B09MZQG4L6/ref=sr_1_3?tag=cnet-buy-button-20&amp;ascsubtag=___COM_CLICK_ID___%7C___VIEW_GUID___%7Cdtp\" rel=\"noopener nofollow\" section=\"commerce-link\" target=\"_blank\">face cleanser</a></span>, the <span class=\"comLink nolinks norewrite\" data-track=\"commerceLink\" section=\"commerce-link\"><a data-component=\"leadsTracker\" data-leads-tracker-options=\\'{\"appendCreditCardParams\":false,\"numNodes\":1,\"fireProductViewed\":false,\"trackingData\":{\"asid\":\"\",\"assetguid\":\"aa89413e-cddb-44fd-836d-bd4e544dd328\",\"contype\":\"review\",\"destUrl\":\"https:\\\\/\\\\/assoc-redirect.amazon.com\\\\/g\\\\/r\\\\/https:\\\\/\\\\/www.amazon.com\\\\/Natural-Vitamin-Serum-Face-Dermatologist\\\\/dp\\\\/B07NVXGVWL\\\\/ref=sr_1_8?tag=cnet-buy-button-20&amp;ascsubtag=___COM_CLICK_ID___%7C___VIEW_GUID___%7Cdtp\",\"devicetype\":\"desktop\",\"ctype\":\"cpc\",\"isCreditCard\":false,\"leadcpc\":\"\",\"ltype\":\"manual\",\"merid\":\"\",\"merchantName\":\"\",\"pageId\":\"aa89413e-cddb-44fd-836d-bd4e544dd328\",\"pagetype\":\"\",\"pid\":\"\",\"productId\":\"\",\"rsid\":\"cbsicnetglobalsite\",\"siteid\":\"1\",\"text\":\"H2 Oh Yeah hydrating moisturizer\",\"topic\":\"\",\"ttag\":\"\",\"variant\":\"\",\"viewguid\":\"\",\"event\":\"\",\"correlationId\":\"\",\"_destCat\":\"https:\\\\/\\\\/www.amazon.com\\\\/Natural-Vitamin-Serum-Face-Dermatologist\\\\/dp\\\\/B07NVXGVWL\\\\/ref=sr_1_8\",\"formatType\":\"LINK\",\"location\":\"LINKS\",\"sku\":\"\",\"dwLinkTag\":\"commerce-link\"}}\\' data-omitnoreferrer=\"\" data-shortcode=\"save-25-on-fleur-bee-products-today\" href=\"https://assoc-redirect.amazon.com/g/r/https://www.amazon.com/Natural-Vitamin-Serum-Face-Dermatologist/dp/B07NVXGVWL/ref=sr_1_8?tag=cnet-buy-button-20&amp;ascsubtag=___COM_CLICK_ID___%7C___VIEW_GUID___%7Cdtp\" rel=\"noopener nofollow\" section=\"commerce-link\" target=\"_blank\">H2 Oh Yeah hydrating moisturizer</a></span> and the <span class=\"comLink nolinks norewrite\" data-track=\"commerceLink\" section=\"commerce-link\"><a data-component=\"leadsTracker\" data-leads-tracker-options=\\'{\"appendCreditCardParams\":false,\"numNodes\":1,\"fireProductViewed\":false,\"trackingData\":{\"asid\":\"\",\"assetguid\":\"aa89413e-cddb-44fd-836d-bd4e544dd328\",\"contype\":\"review\",\"destUrl\":\"https:\\\\/\\\\/assoc-redirect.amazon.com\\\\/g\\\\/r\\\\/https:\\\\/\\\\/www.amazon.com\\\\/Hydrating-Moisturizer-Intense-Hydration-Properties\\\\/dp\\\\/B09Q2N29B9\\\\/ref=sr_1_9?tag=cnet-buy-button-20&amp;ascsubtag=___COM_CLICK_ID___%7C___VIEW_GUID___%7Cdtp\",\"devicetype\":\"desktop\",\"ctype\":\"cpc\",\"isCreditCard\":false,\"leadcpc\":\"\",\"ltype\":\"manual\",\"merid\":\"\",\"merchantName\":\"\",\"pageId\":\"aa89413e-cddb-44fd-836d-bd4e544dd328\",\"pagetype\":\"\",\"pid\":\"\",\"productId\":\"\",\"rsid\":\"cbsicnetglobalsite\",\"siteid\":\"1\",\"text\":\"vitamin C serum\",\"topic\":\"\",\"ttag\":\"\",\"variant\":\"\",\"viewguid\":\"\",\"event\":\"\",\"correlationId\":\"\",\"_destCat\":\"https:\\\\/\\\\/www.amazon.com\\\\/Hydrating-Moisturizer-Intense-Hydration-Properties\\\\/dp\\\\/B09Q2N29B9\\\\/ref=sr_1_9\",\"formatType\":\"LINK\",\"location\":\"LINKS\",\"sku\":\"\",\"dwLinkTag\":\"commerce-link\"}}\\' data-omitnoreferrer=\"\" data-shortcode=\"save-25-on-fleur-bee-products-today\" href=\"https://assoc-redirect.amazon.com/g/r/https://www.amazon.com/Hydrating-Moisturizer-Intense-Hydration-Properties/dp/B09Q2N29B9/ref=sr_1_9?tag=cnet-buy-button-20&amp;ascsubtag=___COM_CLICK_ID___%7C___VIEW_GUID___%7Cdtp\" rel=\"noopener nofollow\" section=\"commerce-link\" target=\"_blank\">vitamin C serum</a></span>. If you\\'re shopping on Fleur &amp; Bee and want to save money, I recommend getting the <span class=\"comLink nolinks norewrite\" data-track=\"commerceLink\" section=\"commerce-link\"><a data-component=\"leadsTracker\" data-leads-tracker-options=\\'{\"appendCreditCardParams\":false,\"numNodes\":1,\"fireProductViewed\":false,\"trackingData\":{\"asid\":\"\",\"assetguid\":\"aa89413e-cddb-44fd-836d-bd4e544dd328\",\"contype\":\"review\",\"destUrl\":\"https:\\\\/\\\\/fleurandbee.com\\\\/products\\\\/3-step-skincare-routine\",\"devicetype\":\"desktop\",\"ctype\":\"cpc\",\"isCreditCard\":false,\"leadcpc\":\"\",\"ltype\":\"manual\",\"merid\":\"\",\"merchantName\":\"\",\"pageId\":\"aa89413e-cddb-44fd-836d-bd4e544dd328\",\"pagetype\":\"\",\"pid\":\"\",\"productId\":\"\",\"rsid\":\"cbsicnetglobalsite\",\"siteid\":\"1\",\"text\":\"starter kit\",\"topic\":\"\",\"ttag\":\"\",\"variant\":\"\",\"viewguid\":\"\",\"event\":\"\",\"correlationId\":\"\",\"_destCat\":\"https:\\\\/\\\\/fleurandbee.com\\\\/products\\\\/3-step-skincare-routine\",\"formatType\":\"LINK\",\"location\":\"LINKS\",\"sku\":\"\",\"dwLinkTag\":\"commerce-link\"}}\\' data-omitnoreferrer=\"\" data-shortcode=\"save-25-on-fleur-bee-products-today\" href=\"https://fleurandbee.com/products/3-step-skincare-routine\" rel=\"noopener nofollow\" section=\"commerce-link\" target=\"_blank\">starter kit</a></span>, which includes a facial cleanser, H2 Oh Yeah moisturizer and eye cream for an easy three-step routine. Or you can get the <span class=\"comLink nolinks norewrite\" data-track=\"commerceLink\" section=\"commerce-link\"><a data-component=\"leadsTracker\" data-leads-tracker-options=\\'{\"appendCreditCardParams\":false,\"numNodes\":1,\"fireProductViewed\":false,\"trackingData\":{\"asid\":\"\",\"assetguid\":\"aa89413e-cddb-44fd-836d-bd4e544dd328\",\"contype\":\"review\",\"destUrl\":\"https:\\\\/\\\\/fleurandbee.com\\\\/products\\\\/5-step-skincare-routine\",\"devicetype\":\"desktop\",\"ctype\":\"cpc\",\"isCreditCard\":false,\"leadcpc\":\"\",\"ltype\":\"manual\",\"merid\":\"\",\"merchantName\":\"\",\"pageId\":\"aa89413e-cddb-44fd-836d-bd4e544dd328\",\"pagetype\":\"\",\"pid\":\"\",\"productId\":\"\",\"rsid\":\"cbsicnetglobalsite\",\"siteid\":\"1\",\"text\":\"deluxe set\",\"topic\":\"\",\"ttag\":\"\",\"variant\":\"\",\"viewguid\":\"\",\"event\":\"\",\"correlationId\":\"\",\"_destCat\":\"https:\\\\/\\\\/fleurandbee.com\\\\/products\\\\/5-step-skincare-routine\",\"formatType\":\"LINK\",\"location\":\"LINKS\",\"sku\":\"\",\"dwLinkTag\":\"commerce-link\"}}\\' data-omitnoreferrer=\"\" data-shortcode=\"save-25-on-fleur-bee-products-today\" href=\"https://fleurandbee.com/products/5-step-skincare-routine\" rel=\"noopener nofollow\" section=\"commerce-link\" target=\"_blank\">deluxe set</a></span>, a five-step routine that features the cleanser, moisturizer, eye cream and two other products -- a rose water toner and vitamin C serum.</p><p><strong>Read more</strong>: <span class=\"link\" section=\"shortcodeLink\"><a href=\"/health/personal-care/how-to-find-your-skin-type-and-get-the-best-glow/\">How to Find Your Skin Type and Get the Best Glow</a></span></p>'"
      ]
     },
     "execution_count": 14,
     "metadata": {},
     "output_type": "execute_result"
    }
   ],
   "source": [
    "def get_full_article_from_page(article):\n",
    "    full_contents = ''\n",
    "    try:\n",
    "        for element in article.find('div', class_='article-main-body').contents[:-5]:\n",
    "            if(type(element).__name__ == 'Tag'): # only get the elements that are tags\n",
    "                stringed_element = re.sub(r'\\s+', ' ', str(element).strip()) # remove trailing spaces\n",
    "                if('myfinance-news' not in stringed_element and 'lazyloadElement' not in stringed_element): # filter out unnecessary tags\n",
    "                    full_contents += stringed_element\n",
    "    except:\n",
    "        for element in article.find('div', class_='c-galleryVertical').contents:\n",
    "            if(type(element).__name__ == 'Tag'): # only get the elements that are tags\n",
    "                stringed_element = re.sub(r'\\s+', ' ', str(element).strip()) # remove trailing spaces\n",
    "                if('myfinance-news' not in stringed_element and 'lazyloadElement' not in stringed_element): # filter out unnecessary tags\n",
    "                    full_contents += stringed_element\n",
    "    return full_contents\n",
    "\n",
    "get_full_article_from_page(soup)"
   ]
  },
  {
   "cell_type": "markdown",
   "id": "d715753d",
   "metadata": {},
   "source": [
    "`[:-5]` mainly means that it won't include the last 5 values in the array. This is because these last 5 values aren't considered to be included in the full article."
   ]
  },
  {
   "cell_type": "markdown",
   "id": "7d61a398",
   "metadata": {},
   "source": [
    "# Finding then saving the articles which were posted in March 11-12"
   ]
  },
  {
   "cell_type": "code",
   "execution_count": 15,
   "id": "fc40ee5a",
   "metadata": {
    "ExecuteTime": {
     "end_time": "2022-04-12T14:54:27.668774Z",
     "start_time": "2022-04-12T14:54:14.886143Z"
    },
    "scrolled": true
   },
   "outputs": [
    {
     "name": "stdout",
     "output_type": "stream",
     "text": [
      "=== Page 100 ===\n",
      "Max Date: 03/14/2022\n",
      "Min Date: 03/13/2022\n",
      "==============\n",
      "=== Page 101 ===\n",
      "Max Date: 03/13/2022\n",
      "Min Date: 03/12/2022\n",
      "==============\n",
      "=== Page 102 ===\n",
      "Max Date: 03/12/2022\n",
      "Min Date: 03/11/2022\n",
      "==============\n",
      "=== Page 103 ===\n",
      "Max Date: 03/11/2022\n",
      "Min Date: 03/11/2022\n",
      "==============\n",
      "=== Page 104 ===\n",
      "Max Date: 03/11/2022\n",
      "Min Date: 03/11/2022\n",
      "==============\n",
      "=== Page 105 ===\n",
      "Max Date: 03/11/2022\n",
      "Min Date: 03/11/2022\n",
      "==============\n",
      "=== Page 106 ===\n",
      "Max Date: 03/11/2022\n",
      "Min Date: 03/10/2022\n",
      "==============\n"
     ]
    }
   ],
   "source": [
    "has_found_march_12 = False # starts in march 12 since the articles are sorted by date in a descending order\n",
    "has_finished_march_11 = False\n",
    "page = 100 # starts at page 100\n",
    "\n",
    "news_articles = []\n",
    "\n",
    "while(not(has_found_march_12 and has_finished_march_11)):\n",
    "    result = requests.get('%s/%d' % (news_url, page))\n",
    "    soup = BeautifulSoup(result.content, 'html.parser')\n",
    "    \n",
    "    list_container = soup.find(class_='fdListingContainer')\n",
    "    list_of_news = list_container.find_all('div', class_='riverPost')\n",
    "    \n",
    "    dates = []\n",
    "    \n",
    "    for article in list_of_news:\n",
    "        value, unit = article.find('div', class_='timeAgo').find_all('span')\n",
    "        extracted_datetime = get_date_posted(int(value.text), unit.text)\n",
    "        dates.append(extracted_datetime)\n",
    "        if(extracted_datetime <= '03/12/2022'):\n",
    "            has_found_march_12 = True\n",
    "        if(extracted_datetime <= '03/10/2022'):\n",
    "            has_finished_march_11 = True\n",
    "            break\n",
    "        if(has_found_march_12 and not has_finished_march_11): # add to news_articles\n",
    "            link = get_link_from_list(article)\n",
    "            if(link not in [na['link'] for na in news_articles]):\n",
    "                news_articles.append({\n",
    "                    'title': get_title_from_list(article),\n",
    "                    'author': get_author_from_list(article),\n",
    "                    'category': get_category_from_list(article),\n",
    "                    'link': link,\n",
    "                })\n",
    "    print('=== Page %d ===' % page)\n",
    "    print('Max Date:', dates[0])\n",
    "    print('Min Date:', dates[-1])\n",
    "    print('==============')\n",
    "    page += 1"
   ]
  },
  {
   "cell_type": "code",
   "execution_count": 16,
   "id": "d7673117",
   "metadata": {
    "ExecuteTime": {
     "end_time": "2022-04-12T14:54:27.683712Z",
     "start_time": "2022-04-12T14:54:27.672744Z"
    }
   },
   "outputs": [
    {
     "data": {
      "text/plain": [
       "[{'title': 'California Wine Ruined by Wildfires Leads Chemists to Analyze Grapes for Smoke',\n",
       "  'author': 'Monisha Ravisetti',\n",
       "  'category': 'Climate',\n",
       "  'link': 'https://www.cnet.com/science/climate/california-wine-ruined-by-wildfires-leads-chemists-to-analyze-grapes-for-smoke/'},\n",
       " {'title': 'Check Out How Porsche and Pixar Are Creating a Modern Sally Carrera 911',\n",
       "  'author': 'Daniel Golson',\n",
       "  'category': 'Coupes',\n",
       "  'link': 'https://www.cnet.com/roadshow/pictures/porsche-911-sally-carrera-pixar-cars-design-process/'},\n",
       " {'title': 'You Can Snag a Ring Video Doorbell for $30 Right Now -- Today Only (Update: Expired)',\n",
       "  'author': 'Adrian Marlow',\n",
       "  'category': 'Security Cameras',\n",
       "  'link': 'https://www.cnet.com/home/security/you-can-snag-a-ring-video-doorbell-for-30-right-now-today-only/'},\n",
       " {'title': \"Prime Members Can Grab Amazon's Halo Fitness and Sleep-Tracking Band for Just $55\",\n",
       "  'author': 'Adrian Marlow',\n",
       "  'category': 'Fitness Accessories',\n",
       "  'link': 'https://www.cnet.com/health/fitness/prime-members-can-grab-amazons-halo-fitness-and-sleep-tracking-band-for-just-55/'},\n",
       " {'title': 'Bring Home a Massive 75-Inch 4K Screen for Just $690 Today',\n",
       "  'author': 'Adrian Marlow',\n",
       "  'category': 'TVs',\n",
       "  'link': 'https://www.cnet.com/tech/home-entertainment/bring-home-a-massive-75-inch-4k-screen-for-just-690-today/'}]"
      ]
     },
     "execution_count": 16,
     "metadata": {},
     "output_type": "execute_result"
    }
   ],
   "source": [
    "news_articles[:5]"
   ]
  },
  {
   "cell_type": "code",
   "execution_count": 17,
   "id": "d484ea7b",
   "metadata": {
    "ExecuteTime": {
     "end_time": "2022-04-12T14:54:27.729370Z",
     "start_time": "2022-04-12T14:54:27.686706Z"
    }
   },
   "outputs": [
    {
     "data": {
      "text/plain": [
       "67"
      ]
     },
     "execution_count": 17,
     "metadata": {},
     "output_type": "execute_result"
    }
   ],
   "source": [
    "len(news_articles)"
   ]
  },
  {
   "cell_type": "markdown",
   "id": "a1edf65d",
   "metadata": {},
   "source": [
    "# Going through each page and getting the full attributes"
   ]
  },
  {
   "cell_type": "code",
   "execution_count": 18,
   "id": "071b895c",
   "metadata": {
    "ExecuteTime": {
     "end_time": "2022-04-12T14:56:12.087192Z",
     "start_time": "2022-04-12T14:54:27.733342Z"
    },
    "scrolled": true
   },
   "outputs": [
    {
     "name": "stdout",
     "output_type": "stream",
     "text": [
      "[0] California Wine Ruined by Wildfires Leads Chemists to Analyze Grapes for Smoke\n",
      "[1] Check Out How Porsche and Pixar Are Creating a Modern Sally Carrera 911\n",
      "[2] You Can Snag a Ring Video Doorbell for $30 Right Now -- Today Only (Update: Expired)\n",
      "[3] Prime Members Can Grab Amazon's Halo Fitness and Sleep-Tracking Band for Just $55\n",
      "[4] Bring Home a Massive 75-Inch 4K Screen for Just $690 Today\n",
      "[5] 6 Things That Didn't Make an Appearance at the Apple Event\n",
      "[6] Apple's Missing Out by Not Having an Under-$300 iPhone SE\n",
      "[7] 9 Great Reads From CNET This Week: iPhone SE, Magic Leap 2, Tech in Texas and More\n",
      "[8] Chase Center, Home of the Golden State Warriors, Adds New Plant-Based Eatery\n",
      "[9] Robot Battery-Swapping Might Be the Best Way to Recharge an EV\n",
      "[10] The Real Cost of Setting Up an Amazon Alexa Smart Home\n",
      "[11] Apple Studio Display vs. Pro Display XDR: The Same, Yet Not\n",
      "[12] The White House Issues First Crypto Order. This Week's Top Bitcoin and Crypto News\n",
      "[13] You Can Rearrange Your Spotify Playlists. Here's How\n",
      "[14] 2022 Ford F-150 Lightning Dances in the Snow\n",
      "[15] A Streaming Plea: Stop Making TV Shows That Shouldn't Be Full Shows\n",
      "[16] Meta Slightly Downgrades Lavish Work Perks Ahead of Return to Office\n",
      "[17] Instagram Live Streamers Can Assign Their Own Moderators to Clean Up Chat\n",
      "[18] YouTube Bans Videos Denying or Trivializing Russia's Ukraine Invasion\n",
      "[19] This Ancient Turtle Survived the Extinction Event That Killed T. Rex\n",
      "[20] Uber Announces Fuel Surcharge as Gas Prices Soar\n",
      "[21] Earth May Have a Nearby Twin. Here's What It Could Look Like\n",
      "[22] Baseball Fans Get Their Own Stats-Heavy Wordle Clone\n",
      "[23] Porsche to Auction a One-Off 911 Inspired by Sally From Pixar's 'Cars'\n",
      "[24] Best Gel Mattress for 2022\n",
      "[25] See a Baby Star Having a Stellar Tantrum\n",
      "[26] Want To See a Trio of Dust Devils Dance Across Mars? Of Course You Do\n",
      "[27] Best Soft Mattress of 2022\n",
      "[28] California's PG&E to Test Ford Lightning EV as a Way of Preventing Wildfires\n",
      "[29] Best Chromebook for 2022: 8 Chromebooks Starting at Under $300\n",
      "[30] Best Gaming PC Deals: ABS Desktop With RTX 3060 Graphics on Sale for $1,000\n",
      "[31] EA Reveals Early Behind-the-Scenes Look at Dead Space Remake\n",
      "[32] $200 Moto G Power Is Now Available for Preorder\n",
      "[33] Hulu Plus Live TV Adds Unlimited DVR to Base Price of $70 per Month\n",
      "[34] CDC Suggests Some Can Wait Longer to Get Second Pfizer, Moderna Shot\n",
      "[35] Facebook Suspends Rules to Allow Some Calls for Violence Against Russian Invaders\n",
      "[36] 6 Best Peloton Alternatives for 2022: Get the Same Great At-Home Workout for Less\n",
      "[37] Best Bluetooth Wireless Speaker for 2022\n",
      "[38] Apple, Google, Other Tech Giants Urge Texas to Drop Anti-Transgender Legislation\n",
      "[39] Pokemon Go March Community Day: Alolan Sandshrew, Bonuses and More\n",
      "[40] Jeep Brings Back Gobi Paint Color for 2022\n",
      "[41] UK Regulators Order Shutdown of Cryptocurrency ATMs\n",
      "[42] Animal Crossing: New Horizons - All K.K. Slider songs\n",
      "[43] Federal Agency Legalizes Self-Driving Cars Without Steering Wheels, Pedals\n",
      "[44] Your Car Is a Computer on Wheels So Volvo's Opening a New Stockholm Tech Hub\n",
      "[45] 2023 Acura Integra Is a Sharply Styled Hatchback\n",
      "[46] Snag a 256GB MicroSD Memory Card and SD Adapter for Just $25\n",
      "[47] Best Portable Mini Bluetooth Speaker for 2022: JBL, Bose, Sony and More\n",
      "[48] 3 Upgrades Apple Gave the iPhone SE in 2022\n",
      "[49] You Can Now Play Monument Valley 2 on Apple Arcade\n",
      "[50] NASA Satellite Sees Arctic Sea Ice Thinning at 'Frightening' Rate\n",
      "[51] As Tax Deadline Looms, TurboTax Partners With CoinTracker to Simplify Crypto Reporting\n",
      "[52] Biden Calls for End of Normal Trade Relations With Russia\n",
      "[53] CNN Plus Streaming Service to Launch on March 29\n",
      "[54] Get a 3-Year Subscription for Online Classes on Music Theory, Production, Mixing and More\n",
      "[55] Best Pre-Workout Supplements to Add Energy to Your Exercise\n",
      "[56] 5 Tasty Kitchen Deals Under $50 Today\n",
      "[57] Score the Surface Laptop 4 for Less Than $1,000 During This One-Day Deal\n",
      "[58] The iPhone 13 and 13 Pro Each Get a Snazzy New Green Color Option\n",
      "[59] iPhone 13, iPhone 13 Pro's New Green Colors Compared To Other Green Shapes\n",
      "[60] Current Refinance Rates on Mar. 11, 2022: Rates Tick Higher\n",
      "[61] Mortgage Rates on Mar. 11, 2022: Rates Move Upward\n",
      "[62] Spring Cleaning Sale: Save Up to 57% on Sun Joe Electric Pressure Washers\n",
      "[63] Why 'Turning Red' Just Hit Disney Plus for 'Free' Instead of Theaters\n",
      "[64] Meta and Google Face Joint EU-UK Investigation Over Online Ads Pact\n",
      "[65] Amid War in Ukraine, Should Ordinary Russians Be Banned From Trading Crypto?\n",
      "[66] How Elden Ring Teaches Us to Be More Open About Death\n"
     ]
    }
   ],
   "source": [
    "data = []\n",
    "for i, article in enumerate(news_articles):\n",
    "    print('[%d] %s' % (i, article['title']))\n",
    "    result = requests.get(article['link'])\n",
    "    soup = BeautifulSoup(result.content, 'html.parser')\n",
    "    data.append({\n",
    "        'Title': article['title'],\n",
    "        'Author': article['author'],\n",
    "        'Datetime Posted': get_official_datetime_from_page(soup),\n",
    "        'Category': article['category'],\n",
    "        'Contents': get_full_article_from_page(soup),\n",
    "        'Link': article['link'],\n",
    "    })"
   ]
  },
  {
   "cell_type": "code",
   "execution_count": 19,
   "id": "627dc080",
   "metadata": {
    "ExecuteTime": {
     "end_time": "2022-04-12T14:56:12.118148Z",
     "start_time": "2022-04-12T14:56:12.089190Z"
    }
   },
   "outputs": [
    {
     "data": {
      "text/plain": [
       "[{'Title': 'California Wine Ruined by Wildfires Leads Chemists to Analyze Grapes for Smoke',\n",
       "  'Author': 'Monisha Ravisetti',\n",
       "  'Datetime Posted': 'March 12, 2022 2:14 p.m. PT',\n",
       "  'Category': 'Climate',\n",
       "  'Contents': '<figure class=\"image image-large pull-none hasCaption shortcode\" section=\"shortcodeImage\"><span class=\"imageContainer\"><span><img alt=\"gettyimages-1228760182\" class=\"\" height=\"729\" src=\"https://www.cnet.com/a/img/resize/3ef6723033173240150cd81213edcc956cc08252/2022/03/11/04a698ed-d218-4f8e-997c-1a95683da384/gettyimages-1228760182.jpg?auto=webp&amp;width=1092\" width=\"1092\"/></span></span><figcaption><span class=\"caption\"><p>The Glass Fire burns near vineyards in Napa Valley, California, in September 2020.</p></span><span class=\"credit\"> Samuel Corum/Getty Images </span></figcaption></figure><p class=\"speakableTextP1\">The year 2020 left <a data-component=\"externalLink\" href=\"https://www.winespectator.com/articles/how-did-2020-s-wildfires-impact-california-wine\" rel=\"noopener noreferrer nofollow\" target=\"_blank\">winemakers heartbroken</a>.</p><p class=\"speakableTextP2\">As deadly wildfires on the US West Coast ripped through homes and tore apart forests, smoke seeped into world-renowned vineyards in California\\'s Napa Valley.</p><p>Precious grapes, lovingly nurtured in the name of beautiful wine, were ruined by the taste of fumes and grief. But winemakers continued their craft, hoping their grapes were among the few left unscathed. Most vintners weren\\'t so lucky. Their products were permeated by an acrid flavor, referred to as <a data-component=\"externalLink\" href=\"https://www.winemag.com/2021/02/17/wine-science-smoke-taint/\" rel=\"noopener noreferrer nofollow\" target=\"_blank\">smoke taint</a>. Wine once meant to go for $100 a bottle could now only be added to blends <a data-component=\"externalLink\" href=\"https://www.nytimes.com/2020/10/05/dining/drinks/california-fires-wine-napa.html\" rel=\"noopener noreferrer\" target=\"_blank\">selling for $5 a gallon</a>.</p><p>Looking to avert this sort of catastrophe in the future, <a data-component=\"externalLink\" href=\"https://www.fire.ca.gov/incidents/\" rel=\"noopener noreferrer nofollow\" target=\"_blank\">especially as the climate crisis exacerbates wildfire rates</a> even further, scientists are studying a clearcut way to chemically analyze which grapes and wines are subject to smoke taint and which aren\\'t. They <a data-component=\"externalLink\" href=\"https://pubs.acs.org/doi/10.1021/acs.jnatprod.2c00028\" rel=\"noopener noreferrer nofollow\" target=\"_blank\">published their outline this month in the Journal of Natural Products</a>.</p><p>\"What I discovered was that proper analytical data was not provided to figure out if the <a data-component=\"externalLink\" href=\"https://news.ucsc.edu/2022/03/smoke-taint-wines.html\" rel=\"noopener noreferrer nofollow\" target=\"_blank\">grapes or wines were affected by the smoke</a>,\" Phillip Crews, a chemist at UC Santa Cruz and winemaker at Pelican Ranch Winery, said in a statement. Smoke taint was first brought to Crews\\' attention in 2018 as a result of the Mendocino Complex Fire aftermath, when wineries began rejecting ruined grapes from the region.</p><p>Without such a metric, post-wildfire winemaking and selling calls for a hefty amount of guesswork, like with the 2020 harvest. Thus, tainted grapes are often accidentally turned into wine that then gets rejected, leading to lost product, or tainted wine is sometimes sold under the guise of a good quality offering, resulting in lost reputation.</p><figure class=\"image image-large pull-none hasCaption shortcode\" section=\"shortcodeImage\"><span class=\"imageContainer\"><img alt=\"gettyimages-1228795783\" class=\"lazy\" data-original=\"https://www.cnet.com/a/img/resize/09c58c719620e6bd6f0f40b31539f0ed7681c24d/2022/03/11/33990976-108b-40e2-bf59-16136fc708c7/gettyimages-1228795783.jpg?auto=webp&amp;width=1092\" height=\"729\" src=\"\" width=\"1092\"/><noscript><img alt=\"gettyimages-1228795783\" class=\"\" height=\"729\" src=\"https://www.cnet.com/a/img/resize/09c58c719620e6bd6f0f40b31539f0ed7681c24d/2022/03/11/33990976-108b-40e2-bf59-16136fc708c7/gettyimages-1228795783.jpg?auto=webp&amp;width=1092\" width=\"1092\"/></noscript></span><figcaption><span class=\"caption\"><p>Charred bottles in the remains of a warehouse at a Napa Valley winery.</p></span><span class=\"credit\"> Samuel Corum/Getty Images </span></figcaption></figure><p>Basically, Crews and fellow researchers meticulously studied more than 200 grape and wine samples from 21 grape-growing regions in California and Oregon, each exposed to varying levels of smoke. They uncovered several \"biomarkers,\" or compounds present in the fruit or alcohol, that indicate the item is smoke tainted. </p><p>\"There are still major gaps in our understanding of these compounds, so more research is needed,\" Crews said. \"But people can use these procedures now to look at a bottle of wine or a batch of grapes and tell if it\\'s likely to be affected by smoke taint.\"</p><h2>Searching for spoiled grapes</h2><p>Right now most available research into smoke taint, per the study, focuses on smoke-derived compounds called volatile phenols.</p><p>These molecules are present in fumes from burning vegetation, such as trees during wildfires. Ripening grape skin can absorb these compounds, which is why it makes sense to check out grapes for these phenols -- if they\\'re there, you\\'d think it\\'s safe to say the grapes are smoke tainted.</p><p>But Crews says identifying only the phenols doesn\\'t offer a full picture of smoke taintedness. There\\'s a caveat. Once inside grapes, the phenols bind to sugars and form totally new structures known as phenolic diglycosides that leave the smoke taint undetectable. That\\'s why it\\'s so hard to tell which grapes are affected and which aren\\'t. However, as soon as compromised products hit certain enzymes, such as those present in our saliva, the unwanted taint is released.</p><p>\"We found that the phenolic diglycosides are stable in cabernet sauvignon during bottle aging, but then, during tasting, the monomers that smell bad get released in the mouth,\" Crews said.</p><p>This is why Crews says scientists must measure the phenolic diglycosides directly, instead of relying on the ever-changing volatile phenols. That way, the smoke taintedness can be definitively detected prior to tasting. Through sophisticated chemistry methods, such as quantitative mass spectrometry, the study researchers pinpointed several biomarkers associated with phenolic diglycosides in their samples of grapes and wine.</p><p>\"This research is highly valuable, with the potential to save countless dollars, and is increasingly relevant in our <span class=\"link\" section=\"shortcodeLink\"><a href=\"/science/severe-drought-explained-the-worst-in-the-west-since-medieval-times/\">world of drought</a></span> and climate change,\" Eleni Papadakis, a winemaking consultant in Portland, Oregon, who wasn\\'t directly involved in the study, <a data-component=\"externalLink\" href=\"https://news.ucsc.edu/2022/03/smoke-taint-wines.html\" rel=\"noopener noreferrer nofollow\" target=\"_blank\">said in a statement</a>.</p><p>She added, \"I believe I speak for the whole of the winemaking community when I express the excitement and appreciation for the strong data and evidence-based guidance Professor Crews and his team have provided with this groundbreaking work.\"</p>',\n",
       "  'Link': 'https://www.cnet.com/science/climate/california-wine-ruined-by-wildfires-leads-chemists-to-analyze-grapes-for-smoke/'},\n",
       " {'Title': 'Check Out How Porsche and Pixar Are Creating a Modern Sally Carrera 911',\n",
       "  'Author': 'Daniel Golson',\n",
       "  'Datetime Posted': 'March 11, 2022 1:57 p.m. PT',\n",
       "  'Category': 'Coupes',\n",
       "  'Contents': '<div class=\"c-galleryItem\"><div class=\"c-galleryItem_image\"><picture class=\"c-cmsImage\"><source alt=\"porsche-911-sally-carrera-design-110\" media=\"(max-width: 767px)\" srcset=\"https://www.cnet.com/a/img/resize/ebd4c9c23a65bf211741b536d6590743d13f0190/hub/2022/03/11/3f57697e-796e-4d8b-b0db-fa4c179dccd3/porsche-911-sally-carrera-design-110.jpg?auto=webp&amp;width=768\"/><source alt=\"porsche-911-sally-carrera-design-110\" media=\"(max-width: 1023px)\" srcset=\"https://www.cnet.com/a/img/resize/ebd4c9c23a65bf211741b536d6590743d13f0190/hub/2022/03/11/3f57697e-796e-4d8b-b0db-fa4c179dccd3/porsche-911-sally-carrera-design-110.jpg?auto=webp&amp;width=768\"/><source alt=\"porsche-911-sally-carrera-design-110\" media=\"(max-width: 1440px)\" srcset=\"https://www.cnet.com/a/img/resize/936b0b5121c692a9fdba165ca87379abd5f9824a/hub/2022/03/11/3f57697e-796e-4d8b-b0db-fa4c179dccd3/porsche-911-sally-carrera-design-110.jpg?auto=webp&amp;width=1092\"/> <img alt=\"porsche-911-sally-carrera-design-110\" height=\"728\" src=\"https://www.cnet.com/a/img/resize/936b0b5121c692a9fdba165ca87379abd5f9824a/hub/2022/03/11/3f57697e-796e-4d8b-b0db-fa4c179dccd3/porsche-911-sally-carrera-design-110.jpg?auto=webp&amp;width=1092\" width=\"1092\"/></picture></div> <div class=\"c-galleryItem_credit g-outer-spacing-bottom-xlarge g-outer-spacing-top-small g-color-text-meta g-text-xxsmall u-flexbox u-flexbox-justifyBetween\"><span>1 of 25 </span> <!-- --></div> <div class=\"u-grid-columns\"><div class=\"sm:u-col-2 md:u-col-4 lg:u-col-10 lg:u-col-start-2\"><!-- --> <div class=\"c-CmsContent c-CmsContent-theme:default c-galleryItem_description\"><div class=\"client-only-placeholder\"><p>Porsche is creating a one-off 911 inspired by Sally Carrera from Pixar\\'s Cars.</p></div></div> <div><div class=\"c-galleryItemRelated\"><!-- --> <div class=\"c-galleryItemRelated_button\" section=\"read_more\"><a class=\"o-button o-button-large o-button-secondary o-button-smallRound u-text-uppercase g-text-xxxsmall g-text-bold u-flexbox-justifyCenter u-flexbox-alignCenter\" href=\"/roadshow/news/porsche-911-sally-carrera-pixar-cars-one-off-charity-auction/\" rel=\"follow\"> Read More </a></div></div> <div class=\"c-galleryItemRelated_separator g-outer-spacing-bottom-xxlarge\"></div></div></div></div> <div class=\"c-galleryItem_separator g-outer-spacing-bottom-xxlarge g-border-thin-light-top\"></div> <div class=\"g-outer-spacing-bottom-xxlarge\"><div class=\"c-adDisplay_container c-adDisplay_container_leader-middle\"><!-- --></div></div></div><div class=\"c-galleryItem\"><div class=\"c-galleryItem_image\"><picture class=\"c-cmsImage\"><!-- --> <img alt=\"porsche-911-sally-carrera-design-118\" height=\"728\" src=\"\" width=\"1092\"/></picture></div> <div class=\"c-galleryItem_credit g-outer-spacing-bottom-xlarge g-outer-spacing-top-small g-color-text-meta g-text-xxsmall u-flexbox u-flexbox-justifyBetween\"><span>2 of 25 </span> <!-- --></div> <div class=\"u-grid-columns\"><div class=\"sm:u-col-2 md:u-col-4 lg:u-col-10 lg:u-col-start-2\"><!-- --> <div class=\"c-CmsContent c-CmsContent-theme:default c-galleryItem_description\"><div class=\"client-only-placeholder\"><p>It will be painted in the same blue as the movie character and feature rad turbo twist wheels.</p></div></div> <div><div class=\"c-galleryItemRelated\"><!-- --> <div class=\"c-galleryItemRelated_button\" section=\"read_more\"><a class=\"o-button o-button-large o-button-secondary o-button-smallRound u-text-uppercase g-text-xxxsmall g-text-bold u-flexbox-justifyCenter u-flexbox-alignCenter\" href=\"/roadshow/news/porsche-911-sally-carrera-pixar-cars-one-off-charity-auction/\" rel=\"follow\"> Read More </a></div></div> <div class=\"c-galleryItemRelated_separator g-outer-spacing-bottom-xxlarge\"></div></div></div></div> <div class=\"c-galleryItem_separator g-outer-spacing-bottom-xxlarge g-border-thin-light-top\"></div> <div class=\"g-outer-spacing-bottom-xxlarge\"><div class=\"c-adDisplay_container c-adDisplay_container_leader-middle\"><!-- --></div></div></div><div class=\"c-galleryItem\"><div class=\"c-galleryItem_image\"><picture class=\"c-cmsImage\"><!-- --> <img alt=\"porsche-911-sally-carrera-design-128\" height=\"728\" src=\"\" width=\"1092\"/></picture></div> <div class=\"c-galleryItem_credit g-outer-spacing-bottom-xlarge g-outer-spacing-top-small g-color-text-meta g-text-xxsmall u-flexbox u-flexbox-justifyBetween\"><span>3 of 25 </span> <!-- --></div> <div class=\"u-grid-columns\"><div class=\"sm:u-col-2 md:u-col-4 lg:u-col-10 lg:u-col-start-2\"><!-- --> <div class=\"c-CmsContent c-CmsContent-theme:default c-galleryItem_description\"><div class=\"client-only-placeholder\"><p>The interior will get special badges and trim.</p></div></div> <div><div class=\"c-galleryItemRelated\"><!-- --> <div class=\"c-galleryItemRelated_button\" section=\"read_more\"><a class=\"o-button o-button-large o-button-secondary o-button-smallRound u-text-uppercase g-text-xxxsmall g-text-bold u-flexbox-justifyCenter u-flexbox-alignCenter\" href=\"/roadshow/news/porsche-911-sally-carrera-pixar-cars-one-off-charity-auction/\" rel=\"follow\"> Read More </a></div></div> <div class=\"c-galleryItemRelated_separator g-outer-spacing-bottom-xxlarge\"></div></div></div></div> <div class=\"c-galleryItem_separator g-outer-spacing-bottom-xxlarge g-border-thin-light-top\"></div> <div class=\"g-outer-spacing-bottom-xxlarge\"><div class=\"c-adDisplay_container c-adDisplay_container_leader-middle\"><!-- --></div></div></div><div class=\"c-galleryItem\"><div class=\"c-galleryItem_image\"><picture class=\"c-cmsImage\"><!-- --> <img alt=\"porsche-911-sally-carrera-design-119\" height=\"728\" src=\"\" width=\"1092\"/></picture></div> <div class=\"c-galleryItem_credit g-outer-spacing-bottom-xlarge g-outer-spacing-top-small g-color-text-meta g-text-xxsmall u-flexbox u-flexbox-justifyBetween\"><span>4 of 25 </span> <!-- --></div> <div class=\"u-grid-columns\"><div class=\"sm:u-col-2 md:u-col-4 lg:u-col-10 lg:u-col-start-2\"><!-- --> <div class=\"c-CmsContent c-CmsContent-theme:default c-galleryItem_description\"><div class=\"client-only-placeholder\"><p>In the movie series, Sally is a 2002 Carrera and a lawyer in Radiator Springs.</p></div></div> <div><div class=\"c-galleryItemRelated\"><!-- --> <div class=\"c-galleryItemRelated_button\" section=\"read_more\"><a class=\"o-button o-button-large o-button-secondary o-button-smallRound u-text-uppercase g-text-xxxsmall g-text-bold u-flexbox-justifyCenter u-flexbox-alignCenter\" href=\"/roadshow/news/porsche-911-sally-carrera-pixar-cars-one-off-charity-auction/\" rel=\"follow\"> Read More </a></div></div> <div class=\"c-galleryItemRelated_separator g-outer-spacing-bottom-xxlarge\"></div></div></div></div> <div class=\"c-galleryItem_separator g-outer-spacing-bottom-xxlarge g-border-thin-light-top\"></div> <div class=\"g-outer-spacing-bottom-xxlarge\"><div class=\"c-adDisplay_container c-adDisplay_container_leader-middle\"><!-- --></div></div></div><div class=\"c-galleryItem\"><div class=\"c-galleryItem_image\"><picture class=\"c-cmsImage\"><!-- --> <img alt=\"porsche-911-sally-carrera-design-132\" height=\"728\" src=\"\" width=\"1092\"/></picture></div> <div class=\"c-galleryItem_credit g-outer-spacing-bottom-xlarge g-outer-spacing-top-small g-color-text-meta g-text-xxsmall u-flexbox u-flexbox-justifyBetween\"><span>5 of 25 </span> <!-- --></div> <div class=\"u-grid-columns\"><div class=\"sm:u-col-2 md:u-col-4 lg:u-col-10 lg:u-col-start-2\"><!-- --> <div class=\"c-CmsContent c-CmsContent-theme:default c-galleryItem_description\"><div class=\"client-only-placeholder\"><p>The new one-off is a collab between Porsche\\'s designers and Pixar\\'s team.</p></div></div> <div><div class=\"c-galleryItemRelated\"><!-- --> <div class=\"c-galleryItemRelated_button\" section=\"read_more\"><a class=\"o-button o-button-large o-button-secondary o-button-smallRound u-text-uppercase g-text-xxxsmall g-text-bold u-flexbox-justifyCenter u-flexbox-alignCenter\" href=\"/roadshow/news/porsche-911-sally-carrera-pixar-cars-one-off-charity-auction/\" rel=\"follow\"> Read More </a></div></div> <div class=\"c-galleryItemRelated_separator g-outer-spacing-bottom-xxlarge\"></div></div></div></div> <div class=\"c-galleryItem_separator g-outer-spacing-bottom-xxlarge g-border-thin-light-top\"></div> <div class=\"g-outer-spacing-bottom-xxlarge\"><div class=\"c-adDisplay_container c-adDisplay_container_leader-middle\"><!-- --></div></div></div><div class=\"c-galleryItem\"><div class=\"c-galleryItem_image\"><picture class=\"c-cmsImage\"><!-- --> <img alt=\"porsche-911-sally-carrera-design-111\" height=\"728\" src=\"\" width=\"1092\"/></picture></div> <div class=\"c-galleryItem_credit g-outer-spacing-bottom-xlarge g-outer-spacing-top-small g-color-text-meta g-text-xxsmall u-flexbox u-flexbox-justifyBetween\"><span>6 of 25 </span> <!-- --></div> <div class=\"u-grid-columns\"><div class=\"sm:u-col-2 md:u-col-4 lg:u-col-10 lg:u-col-start-2\"><!-- --> <div class=\"c-CmsContent c-CmsContent-theme:default c-galleryItem_description\"><div class=\"client-only-placeholder\"><p>The project was announced at SXSW.</p></div></div> <div><div class=\"c-galleryItemRelated\"><!-- --> <div class=\"c-galleryItemRelated_button\" section=\"read_more\"><a class=\"o-button o-button-large o-button-secondary o-button-smallRound u-text-uppercase g-text-xxxsmall g-text-bold u-flexbox-justifyCenter u-flexbox-alignCenter\" href=\"/roadshow/news/porsche-911-sally-carrera-pixar-cars-one-off-charity-auction/\" rel=\"follow\"> Read More </a></div></div> <div class=\"c-galleryItemRelated_separator g-outer-spacing-bottom-xxlarge\"></div></div></div></div> <div class=\"c-galleryItem_separator g-outer-spacing-bottom-xxlarge g-border-thin-light-top\"></div> <div class=\"g-outer-spacing-bottom-xxlarge\"><div class=\"c-adDisplay_container c-adDisplay_container_leader-middle\"><!-- --></div></div></div><div class=\"c-galleryItem\"><div class=\"c-galleryItem_image\"><picture class=\"c-cmsImage\"><!-- --> <img alt=\"porsche-911-sally-carrera-design-114\" height=\"728\" src=\"\" width=\"1092\"/></picture></div> <div class=\"c-galleryItem_credit g-outer-spacing-bottom-xlarge g-outer-spacing-top-small g-color-text-meta g-text-xxsmall u-flexbox u-flexbox-justifyBetween\"><span>7 of 25 </span> <!-- --></div> <div class=\"u-grid-columns\"><div class=\"sm:u-col-2 md:u-col-4 lg:u-col-10 lg:u-col-start-2\"><!-- --> <div class=\"c-CmsContent c-CmsContent-theme:default c-galleryItem_description\"><div class=\"client-only-placeholder\"><p>The new 911 will be fully road legal.</p></div></div> <div><div class=\"c-galleryItemRelated\"><!-- --> <div class=\"c-galleryItemRelated_button\" section=\"read_more\"><a class=\"o-button o-button-large o-button-secondary o-button-smallRound u-text-uppercase g-text-xxxsmall g-text-bold u-flexbox-justifyCenter u-flexbox-alignCenter\" href=\"/roadshow/news/porsche-911-sally-carrera-pixar-cars-one-off-charity-auction/\" rel=\"follow\"> Read More </a></div></div> <div class=\"c-galleryItemRelated_separator g-outer-spacing-bottom-xxlarge\"></div></div></div></div> <div class=\"c-galleryItem_separator g-outer-spacing-bottom-xxlarge g-border-thin-light-top\"></div> <div class=\"g-outer-spacing-bottom-xxlarge\"><div class=\"c-adDisplay_container c-adDisplay_container_leader-middle\"><!-- --></div></div></div><div class=\"c-galleryItem\"><div class=\"c-galleryItem_image\"><picture class=\"c-cmsImage\"><!-- --> <img alt=\"porsche-911-sally-carrera-design-124\" height=\"728\" src=\"\" width=\"1092\"/></picture></div> <div class=\"c-galleryItem_credit g-outer-spacing-bottom-xlarge g-outer-spacing-top-small g-color-text-meta g-text-xxsmall u-flexbox u-flexbox-justifyBetween\"><span>8 of 25 </span> <!-- --></div> <div class=\"u-grid-columns\"><div class=\"sm:u-col-2 md:u-col-4 lg:u-col-10 lg:u-col-start-2\"><!-- --> <div class=\"c-CmsContent c-CmsContent-theme:default c-galleryItem_description\"><div class=\"client-only-placeholder\"><p>Proceeds from the auction will go to Girls Inc. to provide long-term education programs for girls in the US, as well as to UNHCR, the UN\\'s refugee agency, to support kids and their families affected by the war in Ukraine.</p></div></div> <div><div class=\"c-galleryItemRelated\"><!-- --> <div class=\"c-galleryItemRelated_button\" section=\"read_more\"><a class=\"o-button o-button-large o-button-secondary o-button-smallRound u-text-uppercase g-text-xxxsmall g-text-bold u-flexbox-justifyCenter u-flexbox-alignCenter\" href=\"/roadshow/news/porsche-911-sally-carrera-pixar-cars-one-off-charity-auction/\" rel=\"follow\"> Read More </a></div></div> <div class=\"c-galleryItemRelated_separator g-outer-spacing-bottom-xxlarge\"></div></div></div></div> <div class=\"c-galleryItem_separator g-outer-spacing-bottom-xxlarge g-border-thin-light-top\"></div> <div class=\"g-outer-spacing-bottom-xxlarge\"><div class=\"c-adDisplay_container c-adDisplay_container_leader-middle\"><!-- --></div></div></div><div class=\"c-galleryItem\"><div class=\"c-galleryItem_image\"><picture class=\"c-cmsImage\"><!-- --> <img alt=\"porsche-911-sally-carrera-design-126\" height=\"728\" src=\"\" width=\"1092\"/></picture></div> <div class=\"c-galleryItem_credit g-outer-spacing-bottom-xlarge g-outer-spacing-top-small g-color-text-meta g-text-xxsmall u-flexbox u-flexbox-justifyBetween\"><span>9 of 25 </span> <!-- --></div> <div class=\"u-grid-columns\"><div class=\"sm:u-col-2 md:u-col-4 lg:u-col-10 lg:u-col-start-2\"><!-- --> <div class=\"c-CmsContent c-CmsContent-theme:default c-galleryItem_description\"><div class=\"client-only-placeholder\"><p>The auction will happen later this year.</p></div></div> <div><div class=\"c-galleryItemRelated\"><!-- --> <div class=\"c-galleryItemRelated_button\" section=\"read_more\"><a class=\"o-button o-button-large o-button-secondary o-button-smallRound u-text-uppercase g-text-xxxsmall g-text-bold u-flexbox-justifyCenter u-flexbox-alignCenter\" href=\"/roadshow/news/porsche-911-sally-carrera-pixar-cars-one-off-charity-auction/\" rel=\"follow\"> Read More </a></div></div> <div class=\"c-galleryItemRelated_separator g-outer-spacing-bottom-xxlarge\"></div></div></div></div> <div class=\"c-galleryItem_separator g-outer-spacing-bottom-xxlarge g-border-thin-light-top\"></div> <div class=\"g-outer-spacing-bottom-xxlarge\"><div class=\"c-adDisplay_container c-adDisplay_container_leader-middle\"><!-- --></div></div></div><div class=\"c-galleryItem\"><div class=\"c-galleryItem_image\"><picture class=\"c-cmsImage\"><!-- --> <img alt=\"porsche-911-sally-carrera-design-112\" height=\"728\" src=\"\" width=\"1092\"/></picture></div> <div class=\"c-galleryItem_credit g-outer-spacing-bottom-xlarge g-outer-spacing-top-small g-color-text-meta g-text-xxsmall u-flexbox u-flexbox-justifyBetween\"><span>10 of 25 </span> <!-- --></div> <div class=\"u-grid-columns\"><div class=\"sm:u-col-2 md:u-col-4 lg:u-col-10 lg:u-col-start-2\"><!-- --> <div class=\"c-CmsContent c-CmsContent-theme:default c-galleryItem_description\"><div class=\"client-only-placeholder\"><p>Keep scrolling to see more of the design process.</p></div></div> <div><div class=\"c-galleryItemRelated\"><!-- --> <div class=\"c-galleryItemRelated_button\" section=\"read_more\"><a class=\"o-button o-button-large o-button-secondary o-button-smallRound u-text-uppercase g-text-xxxsmall g-text-bold u-flexbox-justifyCenter u-flexbox-alignCenter\" href=\"/roadshow/news/porsche-911-sally-carrera-pixar-cars-one-off-charity-auction/\" rel=\"follow\"> Read More </a></div></div> <div class=\"c-galleryItemRelated_separator g-outer-spacing-bottom-xxlarge\"></div></div></div></div> <div class=\"c-galleryItem_separator g-outer-spacing-bottom-xxlarge g-border-thin-light-top\"></div> <div class=\"g-outer-spacing-bottom-xxlarge\"><div class=\"c-adDisplay_container c-adDisplay_container_leader-middle\"><!-- --></div></div></div><div class=\"c-galleryItem\"><div class=\"c-galleryItem_image\"><picture class=\"c-cmsImage\"><!-- --> <img alt=\"porsche-911-sally-carrera-design-113\" height=\"728\" src=\"\" width=\"1092\"/></picture></div> <div class=\"c-galleryItem_credit g-outer-spacing-bottom-xlarge g-outer-spacing-top-small g-color-text-meta g-text-xxsmall u-flexbox u-flexbox-justifyBetween\"><span>11 of 25 </span> <!-- --></div> <div class=\"u-grid-columns\"><div class=\"sm:u-col-2 md:u-col-4 lg:u-col-10 lg:u-col-start-2\"><!-- --> <!-- --> <div><div class=\"c-galleryItemRelated\"><!-- --> <div class=\"c-galleryItemRelated_button\" section=\"read_more\"><a class=\"o-button o-button-large o-button-secondary o-button-smallRound u-text-uppercase g-text-xxxsmall g-text-bold u-flexbox-justifyCenter u-flexbox-alignCenter\" href=\"/roadshow/news/porsche-911-sally-carrera-pixar-cars-one-off-charity-auction/\" rel=\"follow\"> Read More </a></div></div> <div class=\"c-galleryItemRelated_separator g-outer-spacing-bottom-xxlarge\"></div></div></div></div> <div class=\"c-galleryItem_separator g-outer-spacing-bottom-xxlarge g-border-thin-light-top\"></div> <div class=\"g-outer-spacing-bottom-xxlarge\"><div class=\"c-adDisplay_container c-adDisplay_container_leader-middle\"><!-- --></div></div></div><div class=\"c-galleryItem\"><div class=\"c-galleryItem_image\"><picture class=\"c-cmsImage\"><!-- --> <img alt=\"porsche-911-sally-carrera-design-115\" height=\"728\" src=\"\" width=\"1092\"/></picture></div> <div class=\"c-galleryItem_credit g-outer-spacing-bottom-xlarge g-outer-spacing-top-small g-color-text-meta g-text-xxsmall u-flexbox u-flexbox-justifyBetween\"><span>12 of 25 </span> <!-- --></div> <div class=\"u-grid-columns\"><div class=\"sm:u-col-2 md:u-col-4 lg:u-col-10 lg:u-col-start-2\"><!-- --> <!-- --> <div><div class=\"c-galleryItemRelated\"><!-- --> <div class=\"c-galleryItemRelated_button\" section=\"read_more\"><a class=\"o-button o-button-large o-button-secondary o-button-smallRound u-text-uppercase g-text-xxxsmall g-text-bold u-flexbox-justifyCenter u-flexbox-alignCenter\" href=\"/roadshow/news/porsche-911-sally-carrera-pixar-cars-one-off-charity-auction/\" rel=\"follow\"> Read More </a></div></div> <div class=\"c-galleryItemRelated_separator g-outer-spacing-bottom-xxlarge\"></div></div></div></div> <div class=\"c-galleryItem_separator g-outer-spacing-bottom-xxlarge g-border-thin-light-top\"></div> <div class=\"g-outer-spacing-bottom-xxlarge\"><div class=\"c-adDisplay_container c-adDisplay_container_leader-middle\"><!-- --></div></div></div><div class=\"c-galleryItem\"><div class=\"c-galleryItem_image\"><picture class=\"c-cmsImage\"><!-- --> <img alt=\"porsche-911-sally-carrera-design-116\" height=\"728\" src=\"\" width=\"1092\"/></picture></div> <div class=\"c-galleryItem_credit g-outer-spacing-bottom-xlarge g-outer-spacing-top-small g-color-text-meta g-text-xxsmall u-flexbox u-flexbox-justifyBetween\"><span>13 of 25 </span> <!-- --></div> <div class=\"u-grid-columns\"><div class=\"sm:u-col-2 md:u-col-4 lg:u-col-10 lg:u-col-start-2\"><!-- --> <!-- --> <div><div class=\"c-galleryItemRelated\"><!-- --> <div class=\"c-galleryItemRelated_button\" section=\"read_more\"><a class=\"o-button o-button-large o-button-secondary o-button-smallRound u-text-uppercase g-text-xxxsmall g-text-bold u-flexbox-justifyCenter u-flexbox-alignCenter\" href=\"/roadshow/news/porsche-911-sally-carrera-pixar-cars-one-off-charity-auction/\" rel=\"follow\"> Read More </a></div></div> <div class=\"c-galleryItemRelated_separator g-outer-spacing-bottom-xxlarge\"></div></div></div></div> <div class=\"c-galleryItem_separator g-outer-spacing-bottom-xxlarge g-border-thin-light-top\"></div> <div class=\"g-outer-spacing-bottom-xxlarge\"><div class=\"c-adDisplay_container c-adDisplay_container_leader-middle\"><!-- --></div></div></div><div class=\"c-galleryItem\"><div class=\"c-galleryItem_image\"><picture class=\"c-cmsImage\"><!-- --> <img alt=\"porsche-911-sally-carrera-design-117\" height=\"728\" src=\"\" width=\"1092\"/></picture></div> <div class=\"c-galleryItem_credit g-outer-spacing-bottom-xlarge g-outer-spacing-top-small g-color-text-meta g-text-xxsmall u-flexbox u-flexbox-justifyBetween\"><span>14 of 25 </span> <!-- --></div> <div class=\"u-grid-columns\"><div class=\"sm:u-col-2 md:u-col-4 lg:u-col-10 lg:u-col-start-2\"><!-- --> <!-- --> <div><div class=\"c-galleryItemRelated\"><!-- --> <div class=\"c-galleryItemRelated_button\" section=\"read_more\"><a class=\"o-button o-button-large o-button-secondary o-button-smallRound u-text-uppercase g-text-xxxsmall g-text-bold u-flexbox-justifyCenter u-flexbox-alignCenter\" href=\"/roadshow/news/porsche-911-sally-carrera-pixar-cars-one-off-charity-auction/\" rel=\"follow\"> Read More </a></div></div> <div class=\"c-galleryItemRelated_separator g-outer-spacing-bottom-xxlarge\"></div></div></div></div> <div class=\"c-galleryItem_separator g-outer-spacing-bottom-xxlarge g-border-thin-light-top\"></div> <div class=\"g-outer-spacing-bottom-xxlarge\"><div class=\"c-adDisplay_container c-adDisplay_container_leader-middle\"><!-- --></div></div></div><div class=\"c-galleryItem\"><div class=\"c-galleryItem_image\"><picture class=\"c-cmsImage\"><!-- --> <img alt=\"porsche-911-sally-carrera-design-120\" height=\"728\" src=\"\" width=\"1092\"/></picture></div> <div class=\"c-galleryItem_credit g-outer-spacing-bottom-xlarge g-outer-spacing-top-small g-color-text-meta g-text-xxsmall u-flexbox u-flexbox-justifyBetween\"><span>15 of 25 </span> <!-- --></div> <div class=\"u-grid-columns\"><div class=\"sm:u-col-2 md:u-col-4 lg:u-col-10 lg:u-col-start-2\"><!-- --> <!-- --> <div><div class=\"c-galleryItemRelated\"><!-- --> <div class=\"c-galleryItemRelated_button\" section=\"read_more\"><a class=\"o-button o-button-large o-button-secondary o-button-smallRound u-text-uppercase g-text-xxxsmall g-text-bold u-flexbox-justifyCenter u-flexbox-alignCenter\" href=\"/roadshow/news/porsche-911-sally-carrera-pixar-cars-one-off-charity-auction/\" rel=\"follow\"> Read More </a></div></div> <div class=\"c-galleryItemRelated_separator g-outer-spacing-bottom-xxlarge\"></div></div></div></div> <div class=\"c-galleryItem_separator g-outer-spacing-bottom-xxlarge g-border-thin-light-top\"></div> <div class=\"g-outer-spacing-bottom-xxlarge\"><div class=\"c-adDisplay_container c-adDisplay_container_leader-middle\"><!-- --></div></div></div><div class=\"c-galleryItem\"><div class=\"c-galleryItem_image\"><picture class=\"c-cmsImage\"><!-- --> <img alt=\"porsche-911-sally-carrera-design-121\" height=\"728\" src=\"\" width=\"1092\"/></picture></div> <div class=\"c-galleryItem_credit g-outer-spacing-bottom-xlarge g-outer-spacing-top-small g-color-text-meta g-text-xxsmall u-flexbox u-flexbox-justifyBetween\"><span>16 of 25 </span> <!-- --></div> <div class=\"u-grid-columns\"><div class=\"sm:u-col-2 md:u-col-4 lg:u-col-10 lg:u-col-start-2\"><!-- --> <!-- --> <div><div class=\"c-galleryItemRelated\"><!-- --> <div class=\"c-galleryItemRelated_button\" section=\"read_more\"><a class=\"o-button o-button-large o-button-secondary o-button-smallRound u-text-uppercase g-text-xxxsmall g-text-bold u-flexbox-justifyCenter u-flexbox-alignCenter\" href=\"/roadshow/news/porsche-911-sally-carrera-pixar-cars-one-off-charity-auction/\" rel=\"follow\"> Read More </a></div></div> <div class=\"c-galleryItemRelated_separator g-outer-spacing-bottom-xxlarge\"></div></div></div></div> <div class=\"c-galleryItem_separator g-outer-spacing-bottom-xxlarge g-border-thin-light-top\"></div> <div class=\"g-outer-spacing-bottom-xxlarge\"><div class=\"c-adDisplay_container c-adDisplay_container_leader-middle\"><!-- --></div></div></div><div class=\"c-galleryItem\"><div class=\"c-galleryItem_image\"><picture class=\"c-cmsImage\"><!-- --> <img alt=\"porsche-911-sally-carrera-design-122\" height=\"728\" src=\"\" width=\"1092\"/></picture></div> <div class=\"c-galleryItem_credit g-outer-spacing-bottom-xlarge g-outer-spacing-top-small g-color-text-meta g-text-xxsmall u-flexbox u-flexbox-justifyBetween\"><span>17 of 25 </span> <!-- --></div> <div class=\"u-grid-columns\"><div class=\"sm:u-col-2 md:u-col-4 lg:u-col-10 lg:u-col-start-2\"><!-- --> <!-- --> <div><div class=\"c-galleryItemRelated\"><!-- --> <div class=\"c-galleryItemRelated_button\" section=\"read_more\"><a class=\"o-button o-button-large o-button-secondary o-button-smallRound u-text-uppercase g-text-xxxsmall g-text-bold u-flexbox-justifyCenter u-flexbox-alignCenter\" href=\"/roadshow/news/porsche-911-sally-carrera-pixar-cars-one-off-charity-auction/\" rel=\"follow\"> Read More </a></div></div> <div class=\"c-galleryItemRelated_separator g-outer-spacing-bottom-xxlarge\"></div></div></div></div> <div class=\"c-galleryItem_separator g-outer-spacing-bottom-xxlarge g-border-thin-light-top\"></div> <div class=\"g-outer-spacing-bottom-xxlarge\"><div class=\"c-adDisplay_container c-adDisplay_container_leader-middle\"><!-- --></div></div></div><div class=\"c-galleryItem\"><div class=\"c-galleryItem_image\"><picture class=\"c-cmsImage\"><!-- --> <img alt=\"porsche-911-sally-carrera-design-123\" height=\"728\" src=\"\" width=\"1092\"/></picture></div> <div class=\"c-galleryItem_credit g-outer-spacing-bottom-xlarge g-outer-spacing-top-small g-color-text-meta g-text-xxsmall u-flexbox u-flexbox-justifyBetween\"><span>18 of 25 </span> <!-- --></div> <div class=\"u-grid-columns\"><div class=\"sm:u-col-2 md:u-col-4 lg:u-col-10 lg:u-col-start-2\"><!-- --> <!-- --> <div><div class=\"c-galleryItemRelated\"><!-- --> <div class=\"c-galleryItemRelated_button\" section=\"read_more\"><a class=\"o-button o-button-large o-button-secondary o-button-smallRound u-text-uppercase g-text-xxxsmall g-text-bold u-flexbox-justifyCenter u-flexbox-alignCenter\" href=\"/roadshow/news/porsche-911-sally-carrera-pixar-cars-one-off-charity-auction/\" rel=\"follow\"> Read More </a></div></div> <div class=\"c-galleryItemRelated_separator g-outer-spacing-bottom-xxlarge\"></div></div></div></div> <div class=\"c-galleryItem_separator g-outer-spacing-bottom-xxlarge g-border-thin-light-top\"></div> <div class=\"g-outer-spacing-bottom-xxlarge\"><div class=\"c-adDisplay_container c-adDisplay_container_leader-middle\"><!-- --></div></div></div><div class=\"c-galleryItem\"><div class=\"c-galleryItem_image\"><picture class=\"c-cmsImage\"><!-- --> <img alt=\"porsche-911-sally-carrera-design-125\" height=\"728\" src=\"\" width=\"1092\"/></picture></div> <div class=\"c-galleryItem_credit g-outer-spacing-bottom-xlarge g-outer-spacing-top-small g-color-text-meta g-text-xxsmall u-flexbox u-flexbox-justifyBetween\"><span>19 of 25 </span> <!-- --></div> <div class=\"u-grid-columns\"><div class=\"sm:u-col-2 md:u-col-4 lg:u-col-10 lg:u-col-start-2\"><!-- --> <!-- --> <div><div class=\"c-galleryItemRelated\"><!-- --> <div class=\"c-galleryItemRelated_button\" section=\"read_more\"><a class=\"o-button o-button-large o-button-secondary o-button-smallRound u-text-uppercase g-text-xxxsmall g-text-bold u-flexbox-justifyCenter u-flexbox-alignCenter\" href=\"/roadshow/news/porsche-911-sally-carrera-pixar-cars-one-off-charity-auction/\" rel=\"follow\"> Read More </a></div></div> <div class=\"c-galleryItemRelated_separator g-outer-spacing-bottom-xxlarge\"></div></div></div></div> <div class=\"c-galleryItem_separator g-outer-spacing-bottom-xxlarge g-border-thin-light-top\"></div> <div class=\"g-outer-spacing-bottom-xxlarge\"><div class=\"c-adDisplay_container c-adDisplay_container_leader-middle\"><!-- --></div></div></div><div class=\"c-galleryItem\"><div class=\"c-galleryItem_image\"><picture class=\"c-cmsImage\"><!-- --> <img alt=\"porsche-911-sally-carrera-design-127\" height=\"728\" src=\"\" width=\"1092\"/></picture></div> <div class=\"c-galleryItem_credit g-outer-spacing-bottom-xlarge g-outer-spacing-top-small g-color-text-meta g-text-xxsmall u-flexbox u-flexbox-justifyBetween\"><span>20 of 25 </span> <!-- --></div> <div class=\"u-grid-columns\"><div class=\"sm:u-col-2 md:u-col-4 lg:u-col-10 lg:u-col-start-2\"><!-- --> <!-- --> <div><div class=\"c-galleryItemRelated\"><!-- --> <div class=\"c-galleryItemRelated_button\" section=\"read_more\"><a class=\"o-button o-button-large o-button-secondary o-button-smallRound u-text-uppercase g-text-xxxsmall g-text-bold u-flexbox-justifyCenter u-flexbox-alignCenter\" href=\"/roadshow/news/porsche-911-sally-carrera-pixar-cars-one-off-charity-auction/\" rel=\"follow\"> Read More </a></div></div> <div class=\"c-galleryItemRelated_separator g-outer-spacing-bottom-xxlarge\"></div></div></div></div> <div class=\"c-galleryItem_separator g-outer-spacing-bottom-xxlarge g-border-thin-light-top\"></div> <div class=\"g-outer-spacing-bottom-xxlarge\"><div class=\"c-adDisplay_container c-adDisplay_container_leader-middle\"><!-- --></div></div></div><div class=\"c-galleryItem\"><div class=\"c-galleryItem_image\"><picture class=\"c-cmsImage\"><!-- --> <img alt=\"porsche-911-sally-carrera-design-129\" height=\"728\" src=\"\" width=\"1092\"/></picture></div> <div class=\"c-galleryItem_credit g-outer-spacing-bottom-xlarge g-outer-spacing-top-small g-color-text-meta g-text-xxsmall u-flexbox u-flexbox-justifyBetween\"><span>21 of 25 </span> <!-- --></div> <div class=\"u-grid-columns\"><div class=\"sm:u-col-2 md:u-col-4 lg:u-col-10 lg:u-col-start-2\"><!-- --> <!-- --> <div><div class=\"c-galleryItemRelated\"><!-- --> <div class=\"c-galleryItemRelated_button\" section=\"read_more\"><a class=\"o-button o-button-large o-button-secondary o-button-smallRound u-text-uppercase g-text-xxxsmall g-text-bold u-flexbox-justifyCenter u-flexbox-alignCenter\" href=\"/roadshow/news/porsche-911-sally-carrera-pixar-cars-one-off-charity-auction/\" rel=\"follow\"> Read More </a></div></div> <div class=\"c-galleryItemRelated_separator g-outer-spacing-bottom-xxlarge\"></div></div></div></div> <div class=\"c-galleryItem_separator g-outer-spacing-bottom-xxlarge g-border-thin-light-top\"></div> <div class=\"g-outer-spacing-bottom-xxlarge\"><div class=\"c-adDisplay_container c-adDisplay_container_leader-middle\"><!-- --></div></div></div><div class=\"c-galleryItem\"><div class=\"c-galleryItem_image\"><picture class=\"c-cmsImage\"><!-- --> <img alt=\"porsche-911-sally-carrera-design-130\" height=\"728\" src=\"\" width=\"1092\"/></picture></div> <div class=\"c-galleryItem_credit g-outer-spacing-bottom-xlarge g-outer-spacing-top-small g-color-text-meta g-text-xxsmall u-flexbox u-flexbox-justifyBetween\"><span>22 of 25 </span> <!-- --></div> <div class=\"u-grid-columns\"><div class=\"sm:u-col-2 md:u-col-4 lg:u-col-10 lg:u-col-start-2\"><!-- --> <!-- --> <div><div class=\"c-galleryItemRelated\"><!-- --> <div class=\"c-galleryItemRelated_button\" section=\"read_more\"><a class=\"o-button o-button-large o-button-secondary o-button-smallRound u-text-uppercase g-text-xxxsmall g-text-bold u-flexbox-justifyCenter u-flexbox-alignCenter\" href=\"/roadshow/news/porsche-911-sally-carrera-pixar-cars-one-off-charity-auction/\" rel=\"follow\"> Read More </a></div></div> <div class=\"c-galleryItemRelated_separator g-outer-spacing-bottom-xxlarge\"></div></div></div></div> <div class=\"c-galleryItem_separator g-outer-spacing-bottom-xxlarge g-border-thin-light-top\"></div> <div class=\"g-outer-spacing-bottom-xxlarge\"><div class=\"c-adDisplay_container c-adDisplay_container_leader-middle\"><!-- --></div></div></div><div class=\"c-galleryItem\"><div class=\"c-galleryItem_image\"><picture class=\"c-cmsImage\"><!-- --> <img alt=\"porsche-911-sally-carrera-design-131\" height=\"728\" src=\"\" width=\"1092\"/></picture></div> <div class=\"c-galleryItem_credit g-outer-spacing-bottom-xlarge g-outer-spacing-top-small g-color-text-meta g-text-xxsmall u-flexbox u-flexbox-justifyBetween\"><span>23 of 25 </span> <!-- --></div> <div class=\"u-grid-columns\"><div class=\"sm:u-col-2 md:u-col-4 lg:u-col-10 lg:u-col-start-2\"><!-- --> <!-- --> <div><div class=\"c-galleryItemRelated\"><!-- --> <div class=\"c-galleryItemRelated_button\" section=\"read_more\"><a class=\"o-button o-button-large o-button-secondary o-button-smallRound u-text-uppercase g-text-xxxsmall g-text-bold u-flexbox-justifyCenter u-flexbox-alignCenter\" href=\"/roadshow/news/porsche-911-sally-carrera-pixar-cars-one-off-charity-auction/\" rel=\"follow\"> Read More </a></div></div> <div class=\"c-galleryItemRelated_separator g-outer-spacing-bottom-xxlarge\"></div></div></div></div> <div class=\"c-galleryItem_separator g-outer-spacing-bottom-xxlarge g-border-thin-light-top\"></div> <div class=\"g-outer-spacing-bottom-xxlarge\"><div class=\"c-adDisplay_container c-adDisplay_container_leader-middle\"><!-- --></div></div></div><div class=\"c-galleryItem\"><div class=\"c-galleryItem_image\"><picture class=\"c-cmsImage\"><!-- --> <img alt=\"porsche-911-sally-carrera-design-133\" height=\"728\" src=\"\" width=\"1092\"/></picture></div> <div class=\"c-galleryItem_credit g-outer-spacing-bottom-xlarge g-outer-spacing-top-small g-color-text-meta g-text-xxsmall u-flexbox u-flexbox-justifyBetween\"><span>24 of 25 </span> <!-- --></div> <div class=\"u-grid-columns\"><div class=\"sm:u-col-2 md:u-col-4 lg:u-col-10 lg:u-col-start-2\"><!-- --> <!-- --> <div><div class=\"c-galleryItemRelated\"><!-- --> <div class=\"c-galleryItemRelated_button\" section=\"read_more\"><a class=\"o-button o-button-large o-button-secondary o-button-smallRound u-text-uppercase g-text-xxxsmall g-text-bold u-flexbox-justifyCenter u-flexbox-alignCenter\" href=\"/roadshow/news/porsche-911-sally-carrera-pixar-cars-one-off-charity-auction/\" rel=\"follow\"> Read More </a></div></div> <div class=\"c-galleryItemRelated_separator g-outer-spacing-bottom-xxlarge\"></div></div></div></div> <div class=\"c-galleryItem_separator g-outer-spacing-bottom-xxlarge g-border-thin-light-top\"></div> <div class=\"g-outer-spacing-bottom-xxlarge\"><div class=\"c-adDisplay_container c-adDisplay_container_leader-middle\"><!-- --></div></div></div><div class=\"c-galleryItem\"><div class=\"c-galleryItem_image\"><picture class=\"c-cmsImage\"><!-- --> <img alt=\"porsche-911-sally-carrera-design-134\" height=\"728\" src=\"\" width=\"1092\"/></picture></div> <div class=\"c-galleryItem_credit g-outer-spacing-bottom-xlarge g-outer-spacing-top-small g-color-text-meta g-text-xxsmall u-flexbox u-flexbox-justifyBetween\"><span>25 of 25 </span> <!-- --></div> <div class=\"u-grid-columns\"><div class=\"sm:u-col-2 md:u-col-4 lg:u-col-10 lg:u-col-start-2\"><!-- --> <!-- --> <div><div class=\"c-galleryItemRelated\"><!-- --> <div class=\"c-galleryItemRelated_button\" section=\"read_more\"><a class=\"o-button o-button-large o-button-secondary o-button-smallRound u-text-uppercase g-text-xxxsmall g-text-bold u-flexbox-justifyCenter u-flexbox-alignCenter\" href=\"/roadshow/news/porsche-911-sally-carrera-pixar-cars-one-off-charity-auction/\" rel=\"follow\"> Read More </a></div></div> <div class=\"c-galleryItemRelated_separator g-outer-spacing-bottom-xxlarge\"></div></div></div></div> <div class=\"c-galleryItem_separator g-outer-spacing-bottom-xxlarge g-border-thin-light-top\"></div> <div class=\"g-outer-spacing-bottom-xxlarge\"><div class=\"c-adDisplay_container c-adDisplay_container_leader-middle\"><!-- --></div></div></div>',\n",
       "  'Link': 'https://www.cnet.com/roadshow/pictures/porsche-911-sally-carrera-pixar-cars-design-process/'},\n",
       " {'Title': 'You Can Snag a Ring Video Doorbell for $30 Right Now -- Today Only (Update: Expired)',\n",
       "  'Author': 'Adrian Marlow',\n",
       "  'Datetime Posted': 'March 12, 2022 9:33 a.m. PT',\n",
       "  'Category': 'Security Cameras',\n",
       "  'Contents': '<figure class=\"image image-large pull-none shortcode\" section=\"shortcodeImage\"><span class=\"imageContainer\"><span><img alt=\"cnet-security-007-ring-video-doorbell-pro\" class=\"\" height=\"607\" src=\"https://www.cnet.com/a/img/resize/0ebba4a6fed389124fb7a95ccc501ef03add2fff/2019/07/18/e7e57804-fae2-4942-9e15-5cf51af8daf4/cnet-security-007-ring-video-doorbell-pro.jpg?auto=webp&amp;width=1092\" width=\"1092\"/></span></span></figure><p class=\"speakableTextP1\"><strong>Update:</strong> This one-day deal has ended and the Ring Video Doorbells are no longer available at this price.</p><p class=\"speakableTextP2\">If you\\'ve got a dead doorbell or you\\'re doing some routine home upgrades, you might be in the market for a new ringer. Now is a great time to upgrade to a video doorbell so that whether it\\'s people or packages, you can see what\\'s coming your way. With the security of a <span class=\"link\" section=\"shortcodeLink\"><a href=\"/home/security/rings-60-video-doorbell-wired-is-the-best-cheap-doorbell-cam/\">Ring video doorbell</a></span>, you\\'ll always have the heads up when someone is approaching. You can see, hear and even talk to whomever is on the other side of your door from the convenience of your phone, and customize your privacy settings to your comfort. Right now, you can <span class=\"comLink nolinks norewrite\" data-track=\"commerceLink\" section=\"commerce-link\"><a data-component=\"leadsTracker\" data-leads-tracker-options=\\'{\"appendCreditCardParams\":false,\"numNodes\":1,\"fireProductViewed\":false,\"trackingData\":{\"asid\":\"\",\"assetguid\":\"a715b086-5da5-4d0f-ab0b-3787f97c632f\",\"contype\":\"review\",\"destUrl\":\"https:\\\\/\\\\/www.tkqlhce.com\\\\/click-3586864-15196502-1647005398000?sid=cn-___COM_CLICK_ID___-dtp\",\"devicetype\":\"desktop\",\"ctype\":\"cpc\",\"isCreditCard\":false,\"leadcpc\":\"\",\"ltype\":\"manual\",\"merid\":\"\",\"merchantName\":\"\",\"pageId\":\"a715b086-5da5-4d0f-ab0b-3787f97c632f\",\"pagetype\":\"\",\"pid\":\"\",\"productId\":\"\",\"rsid\":\"cbsicnetglobalsite\",\"siteid\":\"1\",\"text\":\"save 50% on the 2021 wired model of the Ring Video Doorbell at Woot\",\"topic\":\"\",\"ttag\":\"\",\"variant\":\"\",\"viewguid\":\"\",\"event\":\"\",\"correlationId\":\"\",\"_destCat\":\"https:\\\\/\\\\/tools.woot.com\\\\/plus\\\\/ring-video-doorbells-2020-and-2021\",\"formatType\":\"LINK\",\"location\":\"LINKS\",\"sku\":\"\",\"dwLinkTag\":\"commerce-link\"}}\\' data-omitnoreferrer=\"\" data-shortcode=\"you-can-snag-a-ring-video-doorbell-for-30-right-now-today-only\" href=\"https://www.tkqlhce.com/click-3586864-15196502-1647005398000?sid=cn-___COM_CLICK_ID___-dtp\" rel=\"noopener nofollow\" section=\"commerce-link\" target=\"_blank\">save 50% on the 2021 wired model of the Ring Video Doorbell at Woot</a></span>, bringing the price to <strong>just $30</strong>. But this <strong>one-day deal</strong> is only available today while supplies last.</p><div class=\"cnetbuybutton leadButton nolinks norewrite\" data-track=\"buybutton\" section=\"button|buy\"><a class=\"\" data-component=\"leadsTracker\" data-leads-tracker-options=\\'{\"appendCreditCardParams\":false,\"numNodes\":1,\"fireProductViewed\":false,\"trackingData\":{\"asid\":\"\",\"assetguid\":\"a715b086-5da5-4d0f-ab0b-3787f97c632f\",\"contype\":\"review\",\"destUrl\":\"https:\\\\/\\\\/www.tkqlhce.com\\\\/click-3586864-15196502-1647005398000?sid=cn-___COM_CLICK_ID___-dtp\",\"devicetype\":\"desktop\",\"ctype\":\"cpc\",\"isCreditCard\":false,\"leadcpc\":\"\",\"ltype\":\"manual\",\"merid\":\"\",\"merchantName\":\"\",\"pageId\":\"a715b086-5da5-4d0f-ab0b-3787f97c632f\",\"pagetype\":\"\",\"pid\":\"\",\"productId\":\"\",\"rsid\":\"cbsicnetglobalsite\",\"siteid\":\"1\",\"text\":\"See at Woot\",\"topic\":\"\",\"ttag\":\"\",\"variant\":\"\",\"viewguid\":\"\",\"event\":\"\",\"correlationId\":\"\",\"_destCat\":\"https:\\\\/\\\\/tools.woot.com\\\\/plus\\\\/ring-video-doorbells-2020-and-2021\",\"formatType\":\"BUTTON\",\"location\":\"LINKS\",\"sku\":\"\",\"dwLinkTag\":\"commerce-button\"}}\\' data-omitnoreferrer=\"\" data-shortcode=\"cnetBuyButton\" href=\"https://www.tkqlhce.com/click-3586864-15196502-1647005398000?sid=cn-___COM_CLICK_ID___-dtp\" rel=\"noopener nofollow\" section=\"{{ section }}\" target=\"_blank\"><div class=\"button button_type_secondary button_size_medium\"><span data-item=\"buttonText\">See at Woot</span></div></a></div><p>Once installed, this doorbell comes with plenty of features to give you peace of mind, like two-way talking from either your phone or your <span class=\"link\" section=\"shortcodeLink\"><a href=\"/home/smart-home/amazon-echo-2020-review-this-new-alexa-smart-speaker-rolls-the-competition/\">Amazon Echo</a></span>, motion-detection and 1080p video. Night vision mode means it works in any light. But what if you\\'re in the garage, basement, or some other place the chime of a doorbell won\\'t reach? Don\\'t worry about it -- you can configure the settings so that you hear the chime on your <span class=\"link\" section=\"shortcodeLink\"><a href=\"/home/smart-home/alexa-overload-you-should-put-an-amazon-echo-in-every-room-of-your-home/\">smart speaker</a></span> or your phone, keeping the entrance to your sanctuary protectively in your pocket. Of course, before you make your purchase, you\\'ll want to make sure you feel comfortable with <span class=\"link\" section=\"shortcodeLink\"><a href=\"/home/security/rings-police-problem-didnt-go-away-it-just-got-more-transparent/\">Ring\\'s current relationship with law enforcement</a></span>, but you can always opt out of some of Ring\\'s data-sharing settings for more privacy. If you still want the extra security of knowing what\\'s on the other side of your door, snag this bargain while it lasts. </p>',\n",
       "  'Link': 'https://www.cnet.com/home/security/you-can-snag-a-ring-video-doorbell-for-30-right-now-today-only/'},\n",
       " {'Title': \"Prime Members Can Grab Amazon's Halo Fitness and Sleep-Tracking Band for Just $55\",\n",
       "  'Author': 'Adrian Marlow',\n",
       "  'Datetime Posted': 'March 12, 2022 7:56 a.m. PT',\n",
       "  'Category': 'Fitness Accessories',\n",
       "  'Contents': '<figure class=\"image image-large pull-none shortcode\" section=\"shortcodeImage\"><span class=\"imageContainer\"><span><img alt=\"haloband.jpg\" class=\"\" height=\"615\" src=\"https://www.cnet.com/a/img/resize/c29bf046ba986ca8e21702a237a317b157f665f8/2022/01/27/7f8c0041-6958-4c6b-bce8-58d700cad9b0/haloband.jpg?auto=webp&amp;width=1092\" width=\"1092\"/></span></span><figcaption><span class=\"credit\"> Amazon </span></figcaption></figure><p class=\"speakableTextP1\">Want to get on track with your health and wellness by starting some healthier habits? The <span class=\"link\" section=\"shortcodeLink\"><a href=\"/health/fitness/amazon-halo-new-health-app-fitness-tracker-metrics-include-body-fat-tone-of-voice/\">Halo Band</a></span> is a low-cost option that can help give you insights on your journey. The band comes with access to the basics: step count, heart rate, sleep time and sleep tracking are all included. If you want the full spectrum of features, though, you\\'ll have to pay for a membership after a free six-month trial, which is included with your purchase. Normally retailing for $100, you can snag the <span class=\"comLink nolinks norewrite\" data-track=\"commerceLink\" section=\"commerce-link\"><a data-component=\"leadsTracker\" data-leads-tracker-options=\\'{\"appendCreditCardParams\":false,\"numNodes\":1,\"fireProductViewed\":false,\"trackingData\":{\"asid\":\"\",\"assetguid\":\"1c573b58-dd98-47b1-a789-44e9e9f1f7b2\",\"contype\":\"review\",\"destUrl\":\"https:\\\\/\\\\/assoc-redirect.amazon.com\\\\/g\\\\/r\\\\/https:\\\\/\\\\/www.amazon.com\\\\/Amazon-Halo-Fitness-And-Health-Band\\\\/dp\\\\/B07QK955LS?ref=dlx_deals_gd_dcl_img_4_81c3da11_mw_sl15_35&amp;tag=cnet-buy-button-20&amp;ascsubtag=___COM_CLICK_ID___%7C___VIEW_GUID___%7Cdtp\",\"devicetype\":\"desktop\",\"ctype\":\"cpc\",\"isCreditCard\":false,\"leadcpc\":\"\",\"ltype\":\"manual\",\"merid\":\"\",\"merchantName\":\"\",\"pageId\":\"1c573b58-dd98-47b1-a789-44e9e9f1f7b2\",\"pagetype\":\"\",\"pid\":\"\",\"productId\":\"\",\"rsid\":\"cbsicnetglobalsite\",\"siteid\":\"1\",\"text\":\"Amazon Halo Band at Amazon for just $55 if you\\\\u0027re an Amazon Prime member\",\"topic\":\"\",\"ttag\":\"\",\"variant\":\"\",\"viewguid\":\"\",\"event\":\"\",\"correlationId\":\"\",\"_destCat\":\"https:\\\\/\\\\/www.amazon.com\\\\/Amazon-Halo-Fitness-And-Health-Band\\\\/dp\\\\/B07QK955LS?ref=dlx_deals_gd_dcl_img_4_81c3da11_mw_sl15_35\",\"formatType\":\"LINK\",\"location\":\"LINKS\",\"sku\":\"\",\"dwLinkTag\":\"commerce-link\"}}\\' data-omitnoreferrer=\"\" data-shortcode=\"prime-members-can-grab-amazons-halo-fitness-and-sleep-tracking-band-for-just-55\" href=\"https://assoc-redirect.amazon.com/g/r/https://www.amazon.com/Amazon-Halo-Fitness-And-Health-Band/dp/B07QK955LS?ref=dlx_deals_gd_dcl_img_4_81c3da11_mw_sl15_35&amp;tag=cnet-buy-button-20&amp;ascsubtag=___COM_CLICK_ID___%7C___VIEW_GUID___%7Cdtp\" rel=\"noopener nofollow\" section=\"commerce-link\" target=\"_blank\">Amazon Halo Band at Amazon for just $55 if you\\'re an Amazon Prime member</a></span>.</p><div class=\"cnetbuybutton leadButton nolinks norewrite\" data-track=\"buybutton\" section=\"button|buy\"><a class=\"\" data-component=\"leadsTracker\" data-leads-tracker-options=\\'{\"appendCreditCardParams\":false,\"numNodes\":1,\"fireProductViewed\":false,\"trackingData\":{\"asid\":\"\",\"assetguid\":\"1c573b58-dd98-47b1-a789-44e9e9f1f7b2\",\"contype\":\"review\",\"destUrl\":\"https:\\\\/\\\\/assoc-redirect.amazon.com\\\\/g\\\\/r\\\\/https:\\\\/\\\\/www.amazon.com\\\\/Amazon-Halo-Fitness-And-Health-Band\\\\/dp\\\\/B07QK955LS?ref=dlx_deals_gd_dcl_img_4_81c3da11_mw_sl15_35&amp;tag=cnet-buy-button-20&amp;ascsubtag=___COM_CLICK_ID___%7C___VIEW_GUID___%7Cdtp\",\"devicetype\":\"desktop\",\"ctype\":\"cpc\",\"isCreditCard\":false,\"leadcpc\":\"\",\"ltype\":\"manual\",\"merid\":\"\",\"merchantName\":\"\",\"pageId\":\"1c573b58-dd98-47b1-a789-44e9e9f1f7b2\",\"pagetype\":\"\",\"pid\":\"\",\"productId\":\"\",\"rsid\":\"cbsicnetglobalsite\",\"siteid\":\"1\",\"text\":\"See at Amazon\",\"topic\":\"\",\"ttag\":\"\",\"variant\":\"\",\"viewguid\":\"\",\"event\":\"\",\"correlationId\":\"\",\"_destCat\":\"https:\\\\/\\\\/www.amazon.com\\\\/Amazon-Halo-Fitness-And-Health-Band\\\\/dp\\\\/B07QK955LS?ref=dlx_deals_gd_dcl_img_4_81c3da11_mw_sl15_35\",\"formatType\":\"BUTTON\",\"location\":\"LINKS\",\"sku\":\"\",\"dwLinkTag\":\"commerce-button\"}}\\' data-omitnoreferrer=\"\" data-shortcode=\"cnetBuyButton\" href=\"https://assoc-redirect.amazon.com/g/r/https://www.amazon.com/Amazon-Halo-Fitness-And-Health-Band/dp/B07QK955LS?ref=dlx_deals_gd_dcl_img_4_81c3da11_mw_sl15_35&amp;tag=cnet-buy-button-20&amp;ascsubtag=___COM_CLICK_ID___%7C___VIEW_GUID___%7Cdtp\" rel=\"noopener nofollow\" section=\"{{ section }}\" target=\"_blank\"><div class=\"button button_type_secondary button_size_medium\"><span data-item=\"buttonText\">See at Amazon</span></div></a></div><p class=\"speakableTextP2\">Memberships will auto-renew after the six-month trial at $4 per month, but the benefits include intensity-based activity tracking, a library of workouts from experts like Lifesum and SWEAT, daily meditations from Headspace, recipes from Whole Foods and much more to help you maintain a healthier lifestyle. Halo can also measure body fat percentage, which is a <span class=\"link\" section=\"shortcodeLink\"><a href=\"/health/nutrition/bmi-is-not-an-accurate-measure-of-health-heres-why/\">better indicator of health than weight or BMI alone</a></span>, giving you a more complete view of your health. It also works with Alexa, so you can get your health summary, activity score and more delivered audibly when connected.</p><p>With three sizes and three colors to choose from, you can customize your Halo Band to your exact preferences. And it\\'s swim proof so you can wear it in the pool, shower or during inclement weather without worry. However, if you prefer a fitness tracker with a screen, the <span class=\"comLink nolinks norewrite\" data-track=\"commerceLink\" section=\"commerce-link\"><a data-component=\"leadsTracker\" data-leads-tracker-options=\\'{\"appendCreditCardParams\":false,\"numNodes\":1,\"fireProductViewed\":false,\"trackingData\":{\"asid\":\"\",\"assetguid\":\"1c573b58-dd98-47b1-a789-44e9e9f1f7b2\",\"contype\":\"review\",\"destUrl\":\"https:\\\\/\\\\/assoc-redirect.amazon.com\\\\/g\\\\/r\\\\/https:\\\\/\\\\/www.amazon.com\\\\/Amazon-Halo-View-Fitness-Tracker\\\\/dp\\\\/B08NCX6V4K\\\\/ref=sr_1_1?crid=DNWHZ268VQ26&amp;keywords=halo+view&amp;qid=1647099430&amp;s=amazon-devices&amp;sprefix=halo+view%2Camazon-devices%2C91&amp;sr=1-1&amp;tag=cnet-buy-button-20&amp;ascsubtag=___COM_CLICK_ID___%7C___VIEW_GUID___%7Cdtp\",\"devicetype\":\"desktop\",\"ctype\":\"cpc\",\"isCreditCard\":false,\"leadcpc\":\"\",\"ltype\":\"manual\",\"merid\":\"\",\"merchantName\":\"\",\"pageId\":\"1c573b58-dd98-47b1-a789-44e9e9f1f7b2\",\"pagetype\":\"\",\"pid\":\"\",\"productId\":\"\",\"rsid\":\"cbsicnetglobalsite\",\"siteid\":\"1\",\"text\":\"Halo View\",\"topic\":\"\",\"ttag\":\"\",\"variant\":\"\",\"viewguid\":\"\",\"event\":\"\",\"correlationId\":\"\",\"_destCat\":\"https:\\\\/\\\\/www.amazon.com\\\\/Amazon-Halo-View-Fitness-Tracker\\\\/dp\\\\/B08NCX6V4K\\\\/ref=sr_1_1?crid=DNWHZ268VQ26&amp;keywords=halo+view&amp;qid=1647099430&amp;s=amazon-devices&amp;sprefix=halo+view%2Camazon-devices%2C91&amp;sr=1-1\",\"formatType\":\"LINK\",\"location\":\"LINKS\",\"sku\":\"\",\"dwLinkTag\":\"commerce-link\"}}\\' data-omitnoreferrer=\"\" data-shortcode=\"prime-members-can-grab-amazons-halo-fitness-and-sleep-tracking-band-for-just-55\" href=\"https://assoc-redirect.amazon.com/g/r/https://www.amazon.com/Amazon-Halo-View-Fitness-Tracker/dp/B08NCX6V4K/ref=sr_1_1?crid=DNWHZ268VQ26&amp;keywords=halo+view&amp;qid=1647099430&amp;s=amazon-devices&amp;sprefix=halo+view%2Camazon-devices%2C91&amp;sr=1-1&amp;tag=cnet-buy-button-20&amp;ascsubtag=___COM_CLICK_ID___%7C___VIEW_GUID___%7Cdtp\" rel=\"noopener nofollow\" section=\"commerce-link\" target=\"_blank\">Halo View</a></span> is available now for only $5 more.</p><svg class=\"svg-symbol playerControls\"><symbol id=\"play\" viewbox=\"0 0 26.6 32\"><path d=\"M0,2.6c0-2.4,1.6-3.3,3.7-2L25,13.7c2,1.3,2,3.2,0,4.5L3.7,31.4c-2,1.3-3.7,0.3-3.7-2C0,29.4,0,2.6,0,2.6z\"></path></symbol><symbol id=\"pause\" viewbox=\"0 0 26.6 32\"><g><polygon points=\"16,32 26.5,32 26.5,8.8 26.5,0 16,0\"></polygon><rect height=\"32\" width=\"10.6\" x=\"0.1\" y=\"0\"></rect></g></symbol><symbol id=\"playlist\" viewbox=\"0 0 32 22.9\"><g><circle class=\"st11\" cx=\"2.3\" cy=\"20.6\" r=\"2.3\"></circle><circle class=\"st11\" cx=\"2.3\" cy=\"11.4\" r=\"2.3\"></circle><circle class=\"st11\" cx=\"2.3\" cy=\"2.3\" r=\"2.3\"></circle><path class=\"st11\" d=\"M32,1.1C32,0.5,31.5,0,30.9,0H10.3C9.7,0,9.1,0.5,9.1,1.1v2.3c0,0.6,0.5,1.1,1.1,1.1h20.6c0.6,0,1.1-0.5,1.1-1.1V1.1z\"></path><path class=\"st11\" d=\"M32,10.3c0-0.6-0.5-1.1-1.1-1.1H10.3c-0.6,0-1.1,0.5-1.1,1.1v2.3c0,0.6,0.5,1.1,1.1,1.1h20.6c0.6,0,1.1-0.5,1.1-1.1V10.3z\"></path><path class=\"st11\" d=\"M32,19.4c0-0.6-0.5-1.1-1.1-1.1H10.3c-0.6,0-1.1,0.5-1.1,1.1v2.3c0,0.6,0.5,1.1,1.1,1.1h20.6c0.6,0,1.1-0.5,1.1-1.1V19.4z\"></path></g></symbol><symbol id=\"speaker-on\" viewbox=\"0 0 32 28.1\"><g><g><path d=\"M12.6,5L6.3,8.7H0.6C0.3,8.7,0,9,0,9.3V19c0,0.4,0.3,0.7,0.6,0.7h5.9l6.1,3.4c1.3,0.8,1.5,0.2,1.5-1.5V6.5C14.2,4.8,13.9,4.2,12.6,5z\"></path></g><path d=\"M18,23.1v-2.8c2.6,0,4.7-2.8,4.7-6.2S20.6,7.8,18,7.8V5c4.2,0,7.5,4,7.5,9S22.1,23.1,18,23.1z\"></path><path d=\"M21.3,28.1v-2.8c4.4,0,7.9-5,7.9-11.2S25.6,2.8,21.3,2.8V0C27.2,0,32,6.3,32,14C32,21.8,27.2,28.1,21.3,28.1z\"></path></g></symbol><symbol id=\"speaker-off\" viewbox=\"0 0 32 18.8\"><g><g><path d=\"M12.6,0.4L6.3,4H0.6C0.3,4,0,4.3,0,4.7v9.7c0,0.4,0.3,0.7,0.6,0.7h5.9l6.1,3.4c1.3,0.8,1.5,0.2,1.5-1.5V1.8C14.2,0.2,13.9-0.5,12.6,0.4z\"></path></g><polygon points=\"32,4.5 30.2,2.7 25.3,7.6 20.4,2.7 18.6,4.5 23.5,9.4 18.6,14.3 20.4,16.1 25.3,11.2 30.2,16.1 32,14.3 27.1,9.4 \"></polygon></g></symbol><symbol id=\"captions\" viewbox=\"0 0 32 16.2\"><g><path d=\"M8.6,16.2c-1.2,0-2.4-0.2-3.4-0.6c-1.1-0.4-2-0.9-2.7-1.6c-0.8-0.7-1.4-1.6-1.8-2.6C0.2,10.4,0,9.3,0,8.1c0-1.2,0.2-2.3,0.7-3.3s1-1.8,1.8-2.6C3.2,1.5,4.1,1,5.2,0.6S7.4,0,8.6,0c1,0,1.9,0.1,2.7,0.4c0.8,0.3,1.4,0.6,2,1.1c0.6,0.4,1.1,0.9,1.4,1.5c0.4,0.5,0.7,1.1,0.9,1.6l-4.1,1.9c-0.1-0.3-0.2-0.6-0.4-0.9C11,5.3,10.8,5,10.5,4.8c-0.3-0.2-0.6-0.4-0.9-0.5c-0.3-0.1-0.7-0.2-1-0.2C8,4.2,7.5,4.3,7,4.5C6.6,4.7,6.2,5,5.8,5.3C5.5,5.7,5.2,6.1,5.1,6.5C4.9,7,4.8,7.5,4.8,8.1c0,0.5,0.1,1.1,0.3,1.5c0.2,0.5,0.4,0.9,0.8,1.2c0.3,0.4,0.7,0.6,1.2,0.8C7.5,11.9,8,12,8.6,12c0.3,0,0.7-0.1,1-0.2c0.3-0.1,0.6-0.3,0.9-0.5c0.3-0.2,0.5-0.4,0.7-0.7c0.2-0.3,0.3-0.6,0.4-0.9l4.1,1.9c-0.2,0.5-0.5,1-0.9,1.6c-0.4,0.5-0.9,1-1.4,1.5c-0.6,0.4-1.2,0.8-2,1.1C10.5,16,9.6,16.2,8.6,16.2z\"></path><path d=\"M24.9,16.2c-1.2,0-2.4-0.2-3.4-0.6c-1.1-0.4-2-0.9-2.7-1.6c-0.8-0.7-1.4-1.6-1.8-2.6c-0.4-1-0.7-2.1-0.7-3.3c0-1.2,0.2-2.3,0.7-3.3c0.4-1,1-1.8,1.8-2.6c0.8-0.7,1.7-1.3,2.7-1.7C22.6,0.2,23.7,0,24.9,0c1,0,1.9,0.1,2.7,0.4c0.8,0.3,1.4,0.6,2,1.1c0.6,0.4,1.1,0.9,1.4,1.5C31.5,3.5,31.8,4,32,4.5l-4.1,1.9c-0.1-0.3-0.2-0.6-0.4-0.9c-0.2-0.3-0.4-0.5-0.7-0.7c-0.3-0.2-0.6-0.4-0.9-0.5c-0.3-0.1-0.7-0.2-1-0.2c-0.6,0-1.1,0.1-1.5,0.3c-0.5,0.2-0.9,0.5-1.2,0.8c-0.3,0.4-0.6,0.8-0.8,1.2c-0.2,0.5-0.3,1-0.3,1.5c0,0.5,0.1,1.1,0.3,1.5c0.2,0.5,0.4,0.9,0.8,1.2c0.3,0.4,0.7,0.6,1.2,0.8c0.5,0.2,1,0.3,1.5,0.3c0.3,0,0.7-0.1,1-0.2c0.3-0.1,0.6-0.3,0.9-0.5c0.3-0.2,0.5-0.4,0.7-0.7c0.2-0.3,0.3-0.6,0.4-0.9l4.1,1.9c-0.2,0.5-0.5,1-0.9,1.6c-0.4,0.5-0.9,1-1.4,1.5c-0.6,0.4-1.2,0.8-2,1.1C26.8,16,25.9,16.2,24.9,16.2z\"></path></g></symbol><symbol id=\"share\" viewbox=\"0 0 32 20\"><path d=\"M20,6c0,0-7.9-0.1-13.2,3.3C1.6,12.7,0,20,0,20s5.1-5.4,9.8-7.2C14.9,10.9,20,12,20,12v6l12-8L20,0V6z\"></path></symbol><symbol id=\"fullscreen\" viewbox=\"0 0 32 32\"><g><g><polygon class=\"st11\" points=\"11.4,0 0,0 0,11.4 3.4,8 9.1,13.7 13.7,9.1 8,3.4 \"></polygon></g><g><polygon class=\"st11\" points=\"20.6,32 32,32 32,20.6 28.6,24 22.9,18.3 18.3,22.9 24,28.6 \"></polygon></g><g><polygon class=\"st11\" points=\"32,11.4 32,0 20.6,0 24,3.4 18.3,9.1 22.9,13.7 28.6,8 \"></polygon></g><g><polygon class=\"st11\" points=\"0,20.6 0,32 11.4,32 8,28.6 13.7,22.9 9.1,18.3 3.4,24 \"></polygon></g></g></symbol><symbol id=\"video\" viewbox=\"0 0 32 22\"><g><path d=\"M29,2.2c-0.7,0.2-4.6,3-7.9,5.3V2.1C21.1,1,20.1,0,19,0H2.1C1,0,0,1,0,2.1v17.7C0,21,1,22,2.1,22H19c1.2,0,2.1-1,2.1-2.1v-5.9c3.3,2.4,7.4,5.4,8.2,5.6c1.4,0.4,2.7-0.1,2.7-0.1V2.2C32,2.2,30.1,1.8,29,2.2z\"></path></g></symbol></svg><div class=\"shortcode video v2\" data-video-playlist=\\'[{\"id\":\"77a81da3-dbe8-4e9c-b068-95416e1dad71\",\"title\":\"Amazon Halo: A fitness tracker and health subscription in one\",\"description\":\"The new app uses your phone\\\\u0027s camera to measure body fat, while the fitness band keeps tabs on your sleep and activity.\",\"slug\":\"amazon-halo-a-fitness-tracker-and-health-subscription-in-one\",\"chapters\":{\"data\":[],\"paging\":{\"total\":0,\"limit\":15,\"offset\":0}},\"datePublished\":\"2020-08-27 13:00:00\",\"duration\":215,\"mpxRefId\":\"dCa6R2JDsL69tpY2xibIiaZMOs5xkAWX\",\"ratingVChip\":\"TV-14\",\"primaryTopic\":{\"id\":\"f8d8d031-2cfa-48f1-b49c-9d8ce316ac78\"},\"author\":{\"id\":\"\",\"firstName\":\"\",\"lastName\":\"\"},\"primaryCollection\":{\"id\":\"2adf6930-fe69-4423-ab9c-9aae7f4f1fc2\",\"title\":\"CNET First Look\"},\"image\":{\"path\":\"https:\\\\/\\\\/www.cnet.com\\\\/a\\\\/img\\\\/resize\\\\/8094d6e915c2579bdc08c9b67d7f610a88ed868f\\\\/2020\\\\/08\\\\/26\\\\/dfa237e8-f0a4-48ac-b6cf-2ddf56bdd4b9\\\\/halo.jpg?auto=webp&amp;fit=crop&amp;height=528&amp;width=940\"},\"thumbnail\":\"https:\\\\/\\\\/www.cnet.com\\\\/a\\\\/img\\\\/resize\\\\/8dcd68529378adfa9392cceacc670e24ee6c01f2\\\\/2020\\\\/08\\\\/26\\\\/dfa237e8-f0a4-48ac-b6cf-2ddf56bdd4b9\\\\/halo.jpg?auto=webp&amp;fit=crop&amp;height=109&amp;width=194\",\"closedCaptionPath\":\"\\\\/videos\\\\/captions\\\\/webvtt\\\\/amazon-halo-a-fitness-tracker-and-health-subscription-in-one.vtt\",\"urlPath\":\"\\\\/videos\\\\/amazon-halo-a-fitness-tracker-and-health-subscription-in-one\\\\/\",\"isVertical\":false,\"m3u8\":\"https:\\\\/\\\\/mt-rv-v1.cnet.com\\\\/vr\\\\/2020\\\\/08\\\\/27\\\\/1781540419696\\\\/482112_hls\\\\/master.m3u8\",\"mp4\":\"https:\\\\/\\\\/mt-rv-v1.cnet.com\\\\/vr\\\\/2020\\\\/08\\\\/27\\\\/1781540419696\\\\/FL_AmazonHalo_EXPLAINER_482108_740.mp4\",\"index\":0}]\\'> <div aria-label=\"Play video Amazon Halo: A fitness tracker and health subscription in one\" class=\"embeddedVideoContainer\" data-load-video=\"0\" data-video-id=\"77a81da3-dbe8-4e9c-b068-95416e1dad71\" tabindex=\"0\"> <div class=\"videoContainer\"> <svg class=\"play\"> <use aria-hidden=\"false\" xlink:href=\"#play\"></use> </svg> <svg class=\"pause\"> <use aria-hidden=\"false\" xlink:href=\"#pause\"></use> </svg> <figure class=\"img\"><img alt=\"\" class=\"photo lazy\" data-original=\"https://www.cnet.com/a/img/resize/91e4e99401b2cbd8b4564b9e4c5fd61100304ba9/2020/08/26/dfa237e8-f0a4-48ac-b6cf-2ddf56bdd4b9/halo.jpg?auto=webp&amp;fit=crop&amp;height=110&amp;width=196\" height=\"110\" src=\"\" width=\"196\"/><noscript><img alt=\"\" class=\"photo\" height=\"110\" src=\"https://www.cnet.com/a/img/resize/91e4e99401b2cbd8b4564b9e4c5fd61100304ba9/2020/08/26/dfa237e8-f0a4-48ac-b6cf-2ddf56bdd4b9/halo.jpg?auto=webp&amp;fit=crop&amp;height=110&amp;width=196\" width=\"196\"/></noscript></figure> </div> <div class=\"videoTitle\"> <span class=\"bold\"> <span class=\"nowPlaying\">Now playing:</span> <span class=\"watchThis\">Watch this:</span> </span> Amazon Halo: A fitness tracker and health subscription... </div> <div class=\"meta videoMeta\"> <span class=\"duration\"> <svg class=\"video\"> <use aria-hidden=\"false\" xlink:href=\"#video\"></use> </svg> 3:35 </span> </div> </div> </div>',\n",
       "  'Link': 'https://www.cnet.com/health/fitness/prime-members-can-grab-amazons-halo-fitness-and-sleep-tracking-band-for-just-55/'},\n",
       " {'Title': 'Bring Home a Massive 75-Inch 4K Screen for Just $690 Today',\n",
       "  'Author': 'Adrian Marlow',\n",
       "  'Datetime Posted': 'March 12, 2022 7:02 a.m. PT',\n",
       "  'Category': 'TVs',\n",
       "  'Contents': '<figure class=\"image image-large pull-none shortcode\" section=\"shortcodeImage\"><span class=\"imageContainer\"><span><img alt=\"insignia75tv\" class=\"\" height=\"615\" src=\"https://www.cnet.com/a/img/resize/5b62babc3144a26a1b4ce570025239172844a5de/2022/03/12/999cbb7c-b484-47f9-8c83-9883ce445a86/insignia75tv.jpg?auto=webp&amp;width=1092\" width=\"1092\"/></span></span></figure><p class=\"speakableTextP1\">Miss the experience of going to the theater? With this humongous 4K ultra HD 75-inch screen, you\\'ll get 2160p resolution and HDR to enjoy sharp contrasts, bright colors and lifelike picture quality to pull you into your favorite shows, films and games right from the comfort of your couch. It also features DTS Studio Sound with two-speaker playback, so your audio will be immersive and realistic. Take $160 off the <span class=\"comLink nolinks norewrite\" data-track=\"commerceLink\" section=\"commerce-link\"><a data-component=\"leadsTracker\" data-leads-tracker-options=\\'{\"appendCreditCardParams\":false,\"numNodes\":1,\"fireProductViewed\":false,\"trackingData\":{\"asid\":\"\",\"assetguid\":\"eace4806-75fe-4cd2-864b-49d779304ad2\",\"contype\":\"review\",\"destUrl\":\"https:\\\\/\\\\/shop-links.co\\\\/link\\\\/?url=https%3A%2F%2Fwww.bestbuy.com%2Fsite%2Finsignia-75-class-f30-series-led-4k-uhd-smart-fire-tv%2F6480926.p%3FskuId%3D6480926&amp;publisher_slug=cnet&amp;article_name=bring%20home%20a%20massive%2075-inch%204k%20screen%20for%20just%20%24690%20today&amp;article_url=https%3A%2F%2Fwww.cnet.com%2Fnews%2Fbring-home-a-massive-75-inch-4k-screen-for-just-690-today%2F&amp;exclusive=1&amp;u1=cn-___COM_CLICK_ID___-dtp\",\"devicetype\":\"desktop\",\"ctype\":\"cpc\",\"isCreditCard\":false,\"leadcpc\":\"\",\"ltype\":\"manual\",\"merid\":\"\",\"merchantName\":\"\",\"pageId\":\"eace4806-75fe-4cd2-864b-49d779304ad2\",\"pagetype\":\"\",\"pid\":\"\",\"productId\":\"\",\"rsid\":\"cbsicnetglobalsite\",\"siteid\":\"1\",\"text\":\"Insignia F30 Series LED 4K UHD smart Fire TV from Best Buy and get a mammoth 75-inch screen for all your home entertainment needs for just $690\",\"topic\":\"\",\"ttag\":\"\",\"variant\":\"\",\"viewguid\":\"\",\"event\":\"\",\"correlationId\":\"\",\"_destCat\":\"https:\\\\/\\\\/www.bestbuy.com\\\\/site\\\\/insignia-75-class-f30-series-led-4k-uhd-smart-fire-tv\\\\/6480926.p?skuId=6480926\",\"formatType\":\"LINK\",\"location\":\"LINKS\",\"sku\":\"\",\"dwLinkTag\":\"commerce-link\"}}\\' data-omitnoreferrer=\"\" data-shortcode=\"bring-home-a-massive-75-inch-4k-screen-for-just-690-today\" href=\"https://shop-links.co/link/?url=https%3A%2F%2Fwww.bestbuy.com%2Fsite%2Finsignia-75-class-f30-series-led-4k-uhd-smart-fire-tv%2F6480926.p%3FskuId%3D6480926&amp;publisher_slug=cnet&amp;article_name=bring%20home%20a%20massive%2075-inch%204k%20screen%20for%20just%20%24690%20today&amp;article_url=https%3A%2F%2Fwww.cnet.com%2Fnews%2Fbring-home-a-massive-75-inch-4k-screen-for-just-690-today%2F&amp;exclusive=1&amp;u1=cn-___COM_CLICK_ID___-dtp\" rel=\"noopener nofollow\" section=\"commerce-link\" target=\"_blank\">Insignia F30 Series LED 4K UHD smart Fire TV from Best Buy and get a mammoth 75-inch screen for all your home entertainment needs for just $690</a></span> during today\\'s <strong>one-day deal</strong>.</p><div class=\"cnetbuybutton leadButton nolinks norewrite\" data-track=\"buybutton\" section=\"button|buy\"><a class=\"\" data-component=\"leadsTracker\" data-leads-tracker-options=\\'{\"appendCreditCardParams\":false,\"numNodes\":1,\"fireProductViewed\":false,\"trackingData\":{\"asid\":\"\",\"assetguid\":\"eace4806-75fe-4cd2-864b-49d779304ad2\",\"contype\":\"review\",\"destUrl\":\"https:\\\\/\\\\/shop-links.co\\\\/link\\\\/?url=https%3A%2F%2Fwww.bestbuy.com%2Fsite%2Finsignia-75-class-f30-series-led-4k-uhd-smart-fire-tv%2F6480926.p%3FskuId%3D6480926&amp;publisher_slug=cnet&amp;article_name=bring%20home%20a%20massive%2075-inch%204k%20screen%20for%20just%20%24690%20today&amp;article_url=https%3A%2F%2Fwww.cnet.com%2Fnews%2Fbring-home-a-massive-75-inch-4k-screen-for-just-690-today%2F&amp;exclusive=1&amp;u1=cn-___COM_CLICK_ID___-dtp\",\"devicetype\":\"desktop\",\"ctype\":\"cpc\",\"isCreditCard\":false,\"leadcpc\":\"\",\"ltype\":\"manual\",\"merid\":\"\",\"merchantName\":\"\",\"pageId\":\"eace4806-75fe-4cd2-864b-49d779304ad2\",\"pagetype\":\"\",\"pid\":\"\",\"productId\":\"\",\"rsid\":\"cbsicnetglobalsite\",\"siteid\":\"1\",\"text\":\"See at Best Buy\",\"topic\":\"\",\"ttag\":\"\",\"variant\":\"\",\"viewguid\":\"\",\"event\":\"\",\"correlationId\":\"\",\"_destCat\":\"https:\\\\/\\\\/www.bestbuy.com\\\\/site\\\\/insignia-75-class-f30-series-led-4k-uhd-smart-fire-tv\\\\/6480926.p?skuId=6480926\",\"formatType\":\"BUTTON\",\"location\":\"LINKS\",\"sku\":\"\",\"dwLinkTag\":\"commerce-button\"}}\\' data-omitnoreferrer=\"\" data-shortcode=\"cnetBuyButton\" href=\"https://shop-links.co/link/?url=https%3A%2F%2Fwww.bestbuy.com%2Fsite%2Finsignia-75-class-f30-series-led-4k-uhd-smart-fire-tv%2F6480926.p%3FskuId%3D6480926&amp;publisher_slug=cnet&amp;article_name=bring%20home%20a%20massive%2075-inch%204k%20screen%20for%20just%20%24690%20today&amp;article_url=https%3A%2F%2Fwww.cnet.com%2Fnews%2Fbring-home-a-massive-75-inch-4k-screen-for-just-690-today%2F&amp;exclusive=1&amp;u1=cn-___COM_CLICK_ID___-dtp\" rel=\"noopener nofollow\" section=\"{{ section }}\" target=\"_blank\"><div class=\"button button_type_secondary button_size_medium\"><span data-item=\"buttonText\">See at Best Buy</span></div></a></div><p class=\"speakableTextP2\">This Fire TV will give you access to all the <span class=\"link\" section=\"shortcodeLink\"><a href=\"/tech/services-and-software/best-streaming-service-of-2022/\">best streaming apps</a></span> like Netflix, Prime Video, Disney Plus, Hulu, Apple TV, and the Alexa Voice Remote makes controlling your set easier by allowing you to search across apps, switch inputs, launch content and more with your voice. And if you have small children in your home, parental controls allow you to block certain content based on program ratings or entire channels, while still being able to access the content you want to watch with a simple PIN.</p><p>Plus, the TV has plenty of connections, including three HDMI ports, AV jacks, a digital optical output and a USB port to connect your Blu-ray player, game console or other device, and this TV supports HDMI ARC and HDMI eARC to connect from the HDMI jack to a soundbar or AV receiver without an extra cable, so you have loads of options to customize your entertainment hub how you like. </p>',\n",
       "  'Link': 'https://www.cnet.com/tech/home-entertainment/bring-home-a-massive-75-inch-4k-screen-for-just-690-today/'}]"
      ]
     },
     "execution_count": 19,
     "metadata": {},
     "output_type": "execute_result"
    }
   ],
   "source": [
    "data[:5]"
   ]
  },
  {
   "cell_type": "code",
   "execution_count": 20,
   "id": "a65ea98a",
   "metadata": {
    "ExecuteTime": {
     "end_time": "2022-04-12T14:56:12.133106Z",
     "start_time": "2022-04-12T14:56:12.121105Z"
    }
   },
   "outputs": [
    {
     "data": {
      "text/plain": [
       "67"
      ]
     },
     "execution_count": 20,
     "metadata": {},
     "output_type": "execute_result"
    }
   ],
   "source": [
    "len(data)"
   ]
  },
  {
   "cell_type": "markdown",
   "id": "60392bc7",
   "metadata": {},
   "source": [
    "# Export the data to a json file"
   ]
  },
  {
   "cell_type": "code",
   "execution_count": 21,
   "id": "1f0614f7",
   "metadata": {
    "ExecuteTime": {
     "end_time": "2022-04-12T14:56:12.226067Z",
     "start_time": "2022-04-12T14:56:12.136066Z"
    }
   },
   "outputs": [],
   "source": [
    "with open('cnet 03-11-22 till 03-12-22.json', 'w') as file:\n",
    "    json.dump(data, file)"
   ]
  },
  {
   "cell_type": "markdown",
   "id": "64475340",
   "metadata": {},
   "source": [
    "# Further Analysis (Optional)"
   ]
  },
  {
   "cell_type": "code",
   "execution_count": 22,
   "id": "325bbc40",
   "metadata": {
    "ExecuteTime": {
     "end_time": "2022-04-12T14:56:12.271965Z",
     "start_time": "2022-04-12T14:56:12.230058Z"
    }
   },
   "outputs": [
    {
     "data": {
      "text/html": [
       "<div>\n",
       "<style scoped>\n",
       "    .dataframe tbody tr th:only-of-type {\n",
       "        vertical-align: middle;\n",
       "    }\n",
       "\n",
       "    .dataframe tbody tr th {\n",
       "        vertical-align: top;\n",
       "    }\n",
       "\n",
       "    .dataframe thead th {\n",
       "        text-align: right;\n",
       "    }\n",
       "</style>\n",
       "<table border=\"1\" class=\"dataframe\">\n",
       "  <thead>\n",
       "    <tr style=\"text-align: right;\">\n",
       "      <th></th>\n",
       "      <th>Title</th>\n",
       "      <th>Author</th>\n",
       "      <th>Datetime Posted</th>\n",
       "      <th>Category</th>\n",
       "      <th>Contents</th>\n",
       "      <th>Link</th>\n",
       "    </tr>\n",
       "  </thead>\n",
       "  <tbody>\n",
       "    <tr>\n",
       "      <th>0</th>\n",
       "      <td>California Wine Ruined by Wildfires Leads Chem...</td>\n",
       "      <td>Monisha Ravisetti</td>\n",
       "      <td>March 12, 2022 2:14 p.m. PT</td>\n",
       "      <td>Climate</td>\n",
       "      <td>&lt;figure class=\"image image-large pull-none has...</td>\n",
       "      <td>https://www.cnet.com/science/climate/californi...</td>\n",
       "    </tr>\n",
       "    <tr>\n",
       "      <th>1</th>\n",
       "      <td>Check Out How Porsche and Pixar Are Creating a...</td>\n",
       "      <td>Daniel Golson</td>\n",
       "      <td>March 11, 2022 1:57 p.m. PT</td>\n",
       "      <td>Coupes</td>\n",
       "      <td>&lt;div class=\"c-galleryItem\"&gt;&lt;div class=\"c-galle...</td>\n",
       "      <td>https://www.cnet.com/roadshow/pictures/porsche...</td>\n",
       "    </tr>\n",
       "    <tr>\n",
       "      <th>2</th>\n",
       "      <td>You Can Snag a Ring Video Doorbell for $30 Rig...</td>\n",
       "      <td>Adrian Marlow</td>\n",
       "      <td>March 12, 2022 9:33 a.m. PT</td>\n",
       "      <td>Security Cameras</td>\n",
       "      <td>&lt;figure class=\"image image-large pull-none sho...</td>\n",
       "      <td>https://www.cnet.com/home/security/you-can-sna...</td>\n",
       "    </tr>\n",
       "    <tr>\n",
       "      <th>3</th>\n",
       "      <td>Prime Members Can Grab Amazon's Halo Fitness a...</td>\n",
       "      <td>Adrian Marlow</td>\n",
       "      <td>March 12, 2022 7:56 a.m. PT</td>\n",
       "      <td>Fitness Accessories</td>\n",
       "      <td>&lt;figure class=\"image image-large pull-none sho...</td>\n",
       "      <td>https://www.cnet.com/health/fitness/prime-memb...</td>\n",
       "    </tr>\n",
       "    <tr>\n",
       "      <th>4</th>\n",
       "      <td>Bring Home a Massive 75-Inch 4K Screen for Jus...</td>\n",
       "      <td>Adrian Marlow</td>\n",
       "      <td>March 12, 2022 7:02 a.m. PT</td>\n",
       "      <td>TVs</td>\n",
       "      <td>&lt;figure class=\"image image-large pull-none sho...</td>\n",
       "      <td>https://www.cnet.com/tech/home-entertainment/b...</td>\n",
       "    </tr>\n",
       "  </tbody>\n",
       "</table>\n",
       "</div>"
      ],
      "text/plain": [
       "                                               Title             Author  \\\n",
       "0  California Wine Ruined by Wildfires Leads Chem...  Monisha Ravisetti   \n",
       "1  Check Out How Porsche and Pixar Are Creating a...      Daniel Golson   \n",
       "2  You Can Snag a Ring Video Doorbell for $30 Rig...      Adrian Marlow   \n",
       "3  Prime Members Can Grab Amazon's Halo Fitness a...      Adrian Marlow   \n",
       "4  Bring Home a Massive 75-Inch 4K Screen for Jus...      Adrian Marlow   \n",
       "\n",
       "               Datetime Posted             Category  \\\n",
       "0  March 12, 2022 2:14 p.m. PT              Climate   \n",
       "1  March 11, 2022 1:57 p.m. PT               Coupes   \n",
       "2  March 12, 2022 9:33 a.m. PT     Security Cameras   \n",
       "3  March 12, 2022 7:56 a.m. PT  Fitness Accessories   \n",
       "4  March 12, 2022 7:02 a.m. PT                  TVs   \n",
       "\n",
       "                                            Contents  \\\n",
       "0  <figure class=\"image image-large pull-none has...   \n",
       "1  <div class=\"c-galleryItem\"><div class=\"c-galle...   \n",
       "2  <figure class=\"image image-large pull-none sho...   \n",
       "3  <figure class=\"image image-large pull-none sho...   \n",
       "4  <figure class=\"image image-large pull-none sho...   \n",
       "\n",
       "                                                Link  \n",
       "0  https://www.cnet.com/science/climate/californi...  \n",
       "1  https://www.cnet.com/roadshow/pictures/porsche...  \n",
       "2  https://www.cnet.com/home/security/you-can-sna...  \n",
       "3  https://www.cnet.com/health/fitness/prime-memb...  \n",
       "4  https://www.cnet.com/tech/home-entertainment/b...  "
      ]
     },
     "execution_count": 22,
     "metadata": {},
     "output_type": "execute_result"
    }
   ],
   "source": [
    "df = pd.DataFrame(data)\n",
    "df.head()"
   ]
  },
  {
   "cell_type": "code",
   "execution_count": null,
   "id": "48bc51ea",
   "metadata": {},
   "outputs": [],
   "source": []
  }
 ],
 "metadata": {
  "kernelspec": {
   "display_name": "Python 3 (ipykernel)",
   "language": "python",
   "name": "python3"
  },
  "language_info": {
   "codemirror_mode": {
    "name": "ipython",
    "version": 3
   },
   "file_extension": ".py",
   "mimetype": "text/x-python",
   "name": "python",
   "nbconvert_exporter": "python",
   "pygments_lexer": "ipython3",
   "version": "3.8.9"
  },
  "toc": {
   "base_numbering": 1,
   "nav_menu": {},
   "number_sections": true,
   "sideBar": true,
   "skip_h1_title": false,
   "title_cell": "Table of Contents",
   "title_sidebar": "Contents",
   "toc_cell": false,
   "toc_position": {},
   "toc_section_display": true,
   "toc_window_display": false
  }
 },
 "nbformat": 4,
 "nbformat_minor": 5
}
